{
 "cells": [
  {
   "cell_type": "markdown",
   "id": "0f09966d-4202-44dc-a21e-057f96d9e8ee",
   "metadata": {},
   "source": [
    "# Interface Informal (interface)"
   ]
  },
  {
   "cell_type": "code",
   "execution_count": 45,
   "id": "ac59a6ad-dd47-4bb6-b5dc-6fc48d0b4113",
   "metadata": {},
   "outputs": [],
   "source": [
    "class Mando:\n",
    "\n",
    "    def siguiente_canal(self):\n",
    "        raise NotImplementedError(\"Este metodo sg_canal, se debe implementar\")\n",
    "\n",
    "    def canal_anterior(self):\n",
    "        raise NotImplementedError(\"Este metodo , se debe implementar\")\n",
    "\n",
    "    def subir_volumen(self):\n",
    "        raise NotImplementedError(\"Este metodo , se debe implementar\")\n",
    "\n",
    "    def bajar_volumen(self):\n",
    "        raise NotImplementedError(\"Este metodo , se debe implementar\")"
   ]
  },
  {
   "cell_type": "code",
   "execution_count": 52,
   "id": "1399d205-c09c-47ab-9bf7-a4401be7cc6f",
   "metadata": {},
   "outputs": [],
   "source": [
    "class MandoLG(Mando):\n",
    "\n",
    "    def siguiente_canal(self):\n",
    "        print(\"LG -> Siguiente\")\n",
    "\n",
    "    def canal_anterior(self):\n",
    "        print(\"LG -> Anterior\")\n",
    "\n",
    "    def subir_volumen(self):\n",
    "        print(\"LG -> Subir\") \n",
    "\n",
    "    def bajar_volumen(self):\n",
    "        print(\"LG -> Bajar\") "
   ]
  },
  {
   "cell_type": "code",
   "execution_count": 59,
   "id": "5388c1f4-15ad-4952-b17b-4ede440d7aa8",
   "metadata": {},
   "outputs": [],
   "source": [
    "class MandoSamsung(Mando):\n",
    "    pass"
   ]
  },
  {
   "cell_type": "code",
   "execution_count": null,
   "id": "47977a1d-d3cb-4227-ac5b-67e1c0fac0a8",
   "metadata": {},
   "outputs": [],
   "source": []
  },
  {
   "cell_type": "code",
   "execution_count": 60,
   "id": "36fa2c0a-4bfa-45aa-9ba6-a4bed1cfa3bc",
   "metadata": {},
   "outputs": [
    {
     "ename": "NotImplementedError",
     "evalue": "Este metodo , se debe implementar",
     "output_type": "error",
     "traceback": [
      "\u001b[0;31m---------------------------------------------------------------------------\u001b[0m",
      "\u001b[0;31mNotImplementedError\u001b[0m                       Traceback (most recent call last)",
      "Cell \u001b[0;32mIn[60], line 2\u001b[0m\n\u001b[1;32m      1\u001b[0m mando_samsung \u001b[38;5;241m=\u001b[39m MandoSamsung()\n\u001b[0;32m----> 2\u001b[0m \u001b[43mmando_samsung\u001b[49m\u001b[38;5;241;43m.\u001b[39;49m\u001b[43mcanal_anterior\u001b[49m\u001b[43m(\u001b[49m\u001b[43m)\u001b[49m\n",
      "Cell \u001b[0;32mIn[45], line 7\u001b[0m, in \u001b[0;36mMando.canal_anterior\u001b[0;34m(self)\u001b[0m\n\u001b[1;32m      6\u001b[0m \u001b[38;5;28;01mdef\u001b[39;00m \u001b[38;5;21mcanal_anterior\u001b[39m(\u001b[38;5;28mself\u001b[39m):\n\u001b[0;32m----> 7\u001b[0m     \u001b[38;5;28;01mraise\u001b[39;00m \u001b[38;5;167;01mNotImplementedError\u001b[39;00m(\u001b[38;5;124m\"\u001b[39m\u001b[38;5;124mEste metodo , se debe implementar\u001b[39m\u001b[38;5;124m\"\u001b[39m)\n",
      "\u001b[0;31mNotImplementedError\u001b[0m: Este metodo , se debe implementar"
     ]
    }
   ],
   "source": [
    "mando_samsung = MandoSamsung()\n",
    "mando_samsung.canal_anterior()"
   ]
  },
  {
   "cell_type": "code",
   "execution_count": null,
   "id": "6fd6f63e-73b7-4d9c-bce6-81adbd04ddb7",
   "metadata": {},
   "outputs": [],
   "source": []
  },
  {
   "cell_type": "code",
   "execution_count": null,
   "id": "4110809b-4f74-4ee3-a9db-5e34d03c849e",
   "metadata": {},
   "outputs": [],
   "source": []
  },
  {
   "cell_type": "markdown",
   "id": "720803c0-9699-44bf-a05e-82da38bf3a1b",
   "metadata": {},
   "source": [
    "# Interface Formal (clase abstracta)"
   ]
  },
  {
   "cell_type": "markdown",
   "id": "a0a0c907-adb4-4665-be56-78c1c8bb1ae4",
   "metadata": {},
   "source": [
    "### PEP3119"
   ]
  },
  {
   "cell_type": "code",
   "execution_count": 7,
   "id": "fa38fa56-8f67-4439-8159-802703498a4d",
   "metadata": {},
   "outputs": [],
   "source": [
    "from abc import ABC"
   ]
  },
  {
   "cell_type": "code",
   "execution_count": 8,
   "id": "1e65536b-25dd-4b24-983b-c689d9179a17",
   "metadata": {},
   "outputs": [],
   "source": [
    "class Mando(ABC):\n",
    "    pass"
   ]
  },
  {
   "cell_type": "code",
   "execution_count": 9,
   "id": "63dda2a4-ab26-4280-b96e-5dba1659db1c",
   "metadata": {},
   "outputs": [],
   "source": [
    "from abc import ABCMeta"
   ]
  },
  {
   "cell_type": "code",
   "execution_count": 11,
   "id": "b9e3c540-fec0-4395-88aa-32f7d3c82bca",
   "metadata": {},
   "outputs": [],
   "source": [
    "class Mando(metaclass = ABCMeta):\n",
    "    pass"
   ]
  },
  {
   "cell_type": "markdown",
   "id": "b72fdfff-4748-4b7a-8653-836f94a960bd",
   "metadata": {},
   "source": [
    "# Ejemplo"
   ]
  },
  {
   "cell_type": "code",
   "execution_count": 15,
   "id": "f1407792-901b-439b-8cca-429b37a02a8b",
   "metadata": {},
   "outputs": [],
   "source": [
    "from abc import ABC\n",
    "from abc import abstractmethod\n",
    "from abc import ABCMeta"
   ]
  },
  {
   "cell_type": "code",
   "execution_count": 17,
   "id": "66fcade5-142b-4b34-aa17-ebdb820bfaf4",
   "metadata": {},
   "outputs": [],
   "source": [
    "class Mando(metaclass = ABCMeta):\n",
    "    \n",
    "    @abstractmethod\n",
    "    def siguiente_canal(self):\n",
    "        pass\n",
    "        \n",
    "    @abstractmethod\n",
    "    def canal_anterior(self):\n",
    "        pass\n",
    "\n",
    "    @abstractmethod\n",
    "    def subir_volumen(self):\n",
    "        pass\n",
    "\n",
    "    @abstractmethod\n",
    "    def bajar_volumen(self):\n",
    "        pass"
   ]
  },
  {
   "cell_type": "code",
   "execution_count": 18,
   "id": "2205ed03-405e-4df9-8fba-216854018cf6",
   "metadata": {},
   "outputs": [],
   "source": [
    "class MandoSamsung(Mando):\n",
    "\n",
    "    def siguiente_canal(self):\n",
    "        print(\"Samsung -> Siguiente\")\n",
    "\n",
    "    def canal_anterior(self):\n",
    "        print(\"Samsung -> Anterior\")\n",
    "\n",
    "    def subir_volumen(self):\n",
    "        print(\"Samsung -> Subir\") \n",
    "\n",
    "    def bajar_volumen(self):\n",
    "        print(\"Samsung -> Bajar\") "
   ]
  },
  {
   "cell_type": "code",
   "execution_count": 19,
   "id": "6461b1f0-0175-4596-8076-3002bd0f0922",
   "metadata": {},
   "outputs": [
    {
     "name": "stdout",
     "output_type": "stream",
     "text": [
      "Samsung -> Bajar\n"
     ]
    }
   ],
   "source": [
    "mando_samsung = MandoSamsung()\n",
    "mando_samsung.bajar_volumen()"
   ]
  },
  {
   "cell_type": "code",
   "execution_count": null,
   "id": "4d2d089c-343e-417a-ab77-18481c0329d0",
   "metadata": {},
   "outputs": [],
   "source": []
  },
  {
   "cell_type": "code",
   "execution_count": null,
   "id": "89debcd3-460e-4559-ac5b-c078720b4e5e",
   "metadata": {},
   "outputs": [],
   "source": []
  }
 ],
 "metadata": {
  "kernelspec": {
   "display_name": "Python 3 (ipykernel)",
   "language": "python",
   "name": "python3"
  },
  "language_info": {
   "codemirror_mode": {
    "name": "ipython",
    "version": 3
   },
   "file_extension": ".py",
   "mimetype": "text/x-python",
   "name": "python",
   "nbconvert_exporter": "python",
   "pygments_lexer": "ipython3",
   "version": "3.11.4"
  }
 },
 "nbformat": 4,
 "nbformat_minor": 5
}
