{
 "cells": [
  {
   "cell_type": "markdown",
   "id": "fb92ecaa-3c79-430f-b58b-e1100e6f57da",
   "metadata": {},
   "source": [
    "# Condicional if"
   ]
  },
  {
   "cell_type": "markdown",
   "id": "ce7fc439-d623-4287-9f9a-ff90961ae3aa",
   "metadata": {},
   "source": [
    "De no ser por las estructuras de control, el código en cualquier lenguaje de programación sería ejecutado secuencialmente hasta terminar. Un código, no deja de ser un conjunto de instrucciones que son ejecutadas unas tras otra. Gracias a las estructuras de control, podemos cambiar el flujo de ejecución de un programa, haciendo que ciertos bloques de código se ejecuten si y solo si se dan unas condiciones particulares.\n",
    "\n"
   ]
  },
  {
   "cell_type": "markdown",
   "id": "7ad3deae-1c22-4615-82f4-0f3436dc8c27",
   "metadata": {},
   "source": [
    "### Numericos"
   ]
  },
  {
   "cell_type": "code",
   "execution_count": 18,
   "id": "6f35fe77-65ca-4c29-a493-1727c5c1e621",
   "metadata": {},
   "outputs": [
    {
     "name": "stdout",
     "output_type": "stream",
     "text": [
      "tu valor es 40\n"
     ]
    }
   ],
   "source": [
    "a = 40\n",
    "\n",
    "if a == 40:\n",
    "    print(f\"tu valor es {a}\")\n",
    "    #print(\"tu valor a\".format(a))"
   ]
  },
  {
   "cell_type": "markdown",
   "id": "691655e0-bd80-43c8-8f65-a8696e6706da",
   "metadata": {},
   "source": [
    "### Cadenas"
   ]
  },
  {
   "cell_type": "code",
   "execution_count": 23,
   "id": "4d8ad657-2059-4bd8-86af-bd29c0d73d5b",
   "metadata": {},
   "outputs": [
    {
     "name": "stdout",
     "output_type": "stream",
     "text": [
      "-2\n"
     ]
    }
   ],
   "source": [
    "variable_one = \"hola\"\n",
    "variable_two = \" adios\"\n",
    "print(len(variable_one)-len(variable_two))"
   ]
  },
  {
   "cell_type": "code",
   "execution_count": 28,
   "id": "27e29fab-c446-4b40-9afa-ad1b15897089",
   "metadata": {},
   "outputs": [
    {
     "name": "stdout",
     "output_type": "stream",
     "text": [
      "malo\n"
     ]
    }
   ],
   "source": [
    "a = \"hola mundo\"\n",
    "b = \"josue\"\n",
    "\n",
    "if not b in a:\n",
    "    print(\"malo\")\n",
    "else:\n",
    "    print(\"bueno\")"
   ]
  },
  {
   "cell_type": "code",
   "execution_count": 26,
   "id": "7edb4b74-aeac-482c-b45d-0d845b816c79",
   "metadata": {},
   "outputs": [
    {
     "data": {
      "text/plain": [
       "False"
      ]
     },
     "execution_count": 26,
     "metadata": {},
     "output_type": "execute_result"
    }
   ],
   "source": [
    "a = \"hola mundo\"\n",
    "b = \"josue\"\n",
    "b in a"
   ]
  },
  {
   "cell_type": "code",
   "execution_count": 30,
   "id": "330211a7-af42-42e4-8517-6592e875c329",
   "metadata": {},
   "outputs": [
    {
     "data": {
      "text/plain": [
       "-1"
      ]
     },
     "execution_count": 30,
     "metadata": {},
     "output_type": "execute_result"
    }
   ],
   "source": [
    "a = \"hola mundo\"\n",
    "b = \"josue\"\n",
    "\n",
    "a.find(b)"
   ]
  },
  {
   "cell_type": "code",
   "execution_count": 34,
   "id": "efa4f578-b49b-4f58-a28a-67c70eeaf85f",
   "metadata": {},
   "outputs": [
    {
     "data": {
      "text/plain": [
       "'a mundo'"
      ]
     },
     "execution_count": 34,
     "metadata": {},
     "output_type": "execute_result"
    }
   ],
   "source": [
    "a[3:]"
   ]
  },
  {
   "cell_type": "code",
   "execution_count": 36,
   "id": "103befbd-8f08-4906-a77c-edd4d259b9c0",
   "metadata": {},
   "outputs": [
    {
     "name": "stdout",
     "output_type": "stream",
     "text": [
      ",a\n",
      "hol\n"
     ]
    }
   ],
   "source": [
    "a = \"hol,a\"\n",
    "#a = \"ho,la\"\n",
    "\n",
    "if a.find(\",\") != -1:\n",
    "    print(a[a.find(\",\"):])\n",
    "    print(a[:a.find(\",\")])"
   ]
  },
  {
   "cell_type": "markdown",
   "id": "a96df6b1-4322-47ae-a9a0-06814a79d6b9",
   "metadata": {},
   "source": [
    "# Uso de else"
   ]
  },
  {
   "cell_type": "markdown",
   "id": "41fb39c3-8a10-4d36-9c18-3c0d708af34f",
   "metadata": {},
   "source": [
    "Es posible que no solo queramos hacer algo si una determinada condición se cumple, sino que además queramos hacer algo de lo contrario. Es aquí donde entra la cláusula else. La parte del if se comporta de la manera que ya hemos explicado, con la diferencia que si esa condición no se cumple, se ejecutará el código presente dentro del else. Nótese que ambos bloque de código son excluyentes, se entra o en uno o en otro, pero nunca se ejecutarán los dos."
   ]
  },
  {
   "cell_type": "markdown",
   "id": "a8c1cc39-ceaa-4069-b80c-7eb1cb236697",
   "metadata": {},
   "source": [
    "# Swith ( y elif)"
   ]
  },
  {
   "cell_type": "markdown",
   "id": "6be3b45f-1eeb-45af-9bb3-142b2141dee6",
   "metadata": {},
   "source": [
    "El switch es una herramienta que nos permite ejecutar diferentes secciones de código dependiendo de una condición. Su funcionalidad es similar a usar varios if, pero por desgracia Python no tiene un switch propiamente dicho. Sin embargo, hay formas de simular su comportamiento que te explicamos a continuación.\n",
    "\n"
   ]
  },
  {
   "cell_type": "code",
   "execution_count": 37,
   "id": "1e1b6c15-21f7-49fe-afd6-62b6d650a2ac",
   "metadata": {},
   "outputs": [
    {
     "name": "stdout",
     "output_type": "stream",
     "text": [
      "tres\n"
     ]
    }
   ],
   "source": [
    "a = 3\n",
    "\n",
    "if a ==1:\n",
    "    print(\"uno\")\n",
    "elif a ==2:\n",
    "    print(\"dos\")\n",
    "else:\n",
    "    print(\"tres\")\n"
   ]
  },
  {
   "cell_type": "markdown",
   "id": "0d49a991-a30d-46e4-982c-980b0f7626f4",
   "metadata": {},
   "source": [
    "### Diferencia if y switch"
   ]
  },
  {
   "cell_type": "markdown",
   "id": "2c198c47-4c65-4d2c-9bdc-b4bbb32b5fa5",
   "metadata": {},
   "source": [
    "Una de las principales diferencias, es que usando if con elif, no todos los bloques tienen el mismo tiempo de acceso. Todas las condiciones van siendo evaluadas hasta que se cumple y se sale. Imaginemos que tenemos 100 condiciones."
   ]
  },
  {
   "cell_type": "markdown",
   "id": "5276210c-f969-4f82-8c5e-52961a89dd3b",
   "metadata": {},
   "source": [
    "El tiempo de ejecución será distinto si la condicion es 1 o es 70 por ejemplo:\n",
    "\n",
    "- Si es 1: Se evalúa el primer if, y como se cumple la condición se ejecuta y se sale.\n",
    "- Si es 70: Se va evaluando cada condición, hasta llegar al 70. Es decir, tienen que evaluarse 70 condiciones.\n",
    "- Sin embargo, en el switch todos los elementos tienen el mismo tiempo de acceso. Esto se debe a que por debajo esta normalmente implementado con lookup tables.\n",
    "\n",
    "Si trabajamos con un gran número de condiciones, el uso del switch sobre el if podría notarse."
   ]
  },
  {
   "cell_type": "code",
   "execution_count": 14,
   "id": "490f25cc-356b-4604-b21c-e4ece281ce8c",
   "metadata": {},
   "outputs": [],
   "source": [
    "## Ejemplo\n",
    "def opera1(operador, a, b):\n",
    "    if operador == 'suma':\n",
    "        return a + b\n",
    "    elif operador == 'resta':\n",
    "        return a - b\n",
    "    elif operador == 'multiplica':\n",
    "        return a * b\n",
    "    elif operador == 'divide':\n",
    "        return a / b\n",
    "    else:\n",
    "        return None"
   ]
  },
  {
   "cell_type": "markdown",
   "id": "41d4424f-12df-4e6f-a3b1-377030a01c8e",
   "metadata": {},
   "source": [
    "Dado que en Python no tenemos esta herramienta, existe un truco para simularlo. No obstante, si realmente te preocupan estas micro optimizaciones, tal vez no deberías usar Python."
   ]
  },
  {
   "cell_type": "markdown",
   "id": "737c05f7-49ca-463f-932c-09c651a09c3f",
   "metadata": {},
   "source": [
    "# Ejercicios para practicar"
   ]
  },
  {
   "cell_type": "markdown",
   "id": "d0c0230f-2f20-47dc-918c-a08598ea7449",
   "metadata": {},
   "source": [
    "- Escribe un programa que determine si un número dado es primo o no.\n",
    "- Escribe un programa que tome un número como entrada y determine si es par o impar.\n",
    "- Desarrolla un programa que tome un número como entrada y determine si es positivo, negativo o cero.\n",
    "- Crea un programa que tome tres números como entrada y determine cuál de ellos es el mayor.\n",
    "- Escribe un programa que tome las longitudes de tres lados de un triángulo como entrada y determine si es equilátero, isósceles o escaleno.\n",
    "- Desarrolla un programa que tome un número como entrada y determine si está dentro de un rango específico (por ejemplo, entre 10 y 50)."
   ]
  },
  {
   "cell_type": "code",
   "execution_count": null,
   "id": "1fdf5e8f-ad8f-48bb-93f9-5d6caae8947d",
   "metadata": {},
   "outputs": [],
   "source": []
  }
 ],
 "metadata": {
  "kernelspec": {
   "display_name": "Python 3 (ipykernel)",
   "language": "python",
   "name": "python3"
  },
  "language_info": {
   "codemirror_mode": {
    "name": "ipython",
    "version": 3
   },
   "file_extension": ".py",
   "mimetype": "text/x-python",
   "name": "python",
   "nbconvert_exporter": "python",
   "pygments_lexer": "ipython3",
   "version": "3.11.4"
  }
 },
 "nbformat": 4,
 "nbformat_minor": 5
}
