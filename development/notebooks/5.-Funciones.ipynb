{
 "cells": [
  {
   "cell_type": "markdown",
   "id": "a9ffe2e2-b234-4d10-85b9-fab19c215e13",
   "metadata": {},
   "source": [
    "# Paso por valor "
   ]
  },
  {
   "cell_type": "markdown",
   "id": "1aaef30a-2c14-47a8-ad2a-a8085727fd47",
   "metadata": {},
   "source": [
    "Cuando pasas una variable a una función en Python, se copia la referencia al objeto en la función. Si el objeto es inmutable (como números, cadenas o tuplas), la función no puede modificar el objeto original, solo puede modificar la referencia local. Esto da la ilusión de un \"paso por valor\", ya que no puedes cambiar el valor original desde dentro de la función."
   ]
  },
  {
   "cell_type": "code",
   "execution_count": 9,
   "id": "b5e85129-c79b-43b6-a522-03ac0a09c220",
   "metadata": {},
   "outputs": [],
   "source": [
    "def funcion():\n",
    "    pass\n",
    "    "
   ]
  },
  {
   "cell_type": "code",
   "execution_count": 10,
   "id": "a939d242-0897-4ce9-829f-975d34da916a",
   "metadata": {},
   "outputs": [],
   "source": [
    "def retorna_valor():\n",
    "    return 6"
   ]
  },
  {
   "cell_type": "code",
   "execution_count": 11,
   "id": "3b44ab66-cd0b-4c40-9a3f-9ee4569f3b59",
   "metadata": {},
   "outputs": [
    {
     "name": "stdout",
     "output_type": "stream",
     "text": [
      "Valor de la varible retornada : 6\n"
     ]
    }
   ],
   "source": [
    "variable_funcion = retorna_valor()\n",
    "print(f\"Valor de la varible retornada : {variable_funcion}\")"
   ]
  },
  {
   "cell_type": "code",
   "execution_count": 19,
   "id": "de58d3fe-a06d-42ec-a2d6-effa79f7d9b1",
   "metadata": {},
   "outputs": [],
   "source": [
    "def calcula_suma(variable_a:int,variable_b:int)-> int:\n",
    "    return variable_a + variable_b"
   ]
  },
  {
   "cell_type": "code",
   "execution_count": 20,
   "id": "04d1ab0b-af25-4cbf-9cc5-e8eff83f3f8b",
   "metadata": {},
   "outputs": [
    {
     "name": "stdout",
     "output_type": "stream",
     "text": [
      "5\n"
     ]
    }
   ],
   "source": [
    "print(calcula_suma(2,3))"
   ]
  },
  {
   "cell_type": "code",
   "execution_count": null,
   "id": "ea6965e9-4079-4d6e-922a-701b4e5471c3",
   "metadata": {},
   "outputs": [],
   "source": []
  },
  {
   "cell_type": "code",
   "execution_count": 1,
   "id": "362bb35e-f58d-4e55-b937-062056336d34",
   "metadata": {},
   "outputs": [
    {
     "name": "stdout",
     "output_type": "stream",
     "text": [
      "10\n"
     ]
    }
   ],
   "source": [
    "def cambiar_valor(num):\n",
    "    num = 42\n",
    "\n",
    "valor = 10\n",
    "cambiar_valor(valor)\n",
    "print(valor)  # Imprimirá 10, no 42\n"
   ]
  },
  {
   "cell_type": "code",
   "execution_count": 4,
   "id": "cb1ebc25-c72e-46d9-b521-d2b8249ff754",
   "metadata": {},
   "outputs": [
    {
     "name": "stdout",
     "output_type": "stream",
     "text": [
      "10\n",
      "42\n"
     ]
    }
   ],
   "source": [
    "def cambiar_valor(num):\n",
    "    num = 42\n",
    "    return num\n",
    "\n",
    "valor = 10\n",
    "print(valor)\n",
    "valor = cambiar_valor(valor)\n",
    "print(valor)  # Imprimirá 10, no 42"
   ]
  },
  {
   "cell_type": "code",
   "execution_count": 34,
   "id": "d4f6e88f-b34a-4d8e-b733-3b19fb521164",
   "metadata": {},
   "outputs": [],
   "source": [
    "def cambiar_valor(valor):\n",
    "    valor = 42\n",
    "    print((valor))\n",
    "    print(id(valor))"
   ]
  },
  {
   "cell_type": "code",
   "execution_count": 35,
   "id": "d4e031a1-1dee-4db4-a890-dbb3757a1172",
   "metadata": {},
   "outputs": [
    {
     "name": "stdout",
     "output_type": "stream",
     "text": [
      "93978149499784\n",
      "42\n",
      "93978149500808\n",
      "10\n"
     ]
    }
   ],
   "source": [
    "valor = 10\n",
    "print(id(valor))\n",
    "cambiar_valor(valor)\n",
    "print(valor) "
   ]
  },
  {
   "cell_type": "markdown",
   "id": "f797e4dd-0593-4db2-88ad-ceda891542d2",
   "metadata": {},
   "source": [
    "# Paso por referencia"
   ]
  },
  {
   "cell_type": "code",
   "execution_count": 36,
   "id": "2ef8ca0e-ba3e-4f6c-870c-ed1884d7d4a8",
   "metadata": {},
   "outputs": [
    {
     "name": "stdout",
     "output_type": "stream",
     "text": [
      "139661564851648\n",
      "139661564851648\n",
      "[1, 2, 3, 42]\n"
     ]
    }
   ],
   "source": [
    "def modificar_lista(lista):\n",
    "    lista.append(42)\n",
    "    print(id(lista))\n",
    "\n",
    "mi_lista = [1, 2, 3]\n",
    "print(id(mi_lista))\n",
    "modificar_lista(mi_lista)\n",
    "print(mi_lista)  # Imprimirá [1, 2, 3, 42]\n"
   ]
  },
  {
   "cell_type": "code",
   "execution_count": 38,
   "id": "e2687a1f-1645-403a-ad2b-23917bfc50c4",
   "metadata": {},
   "outputs": [
    {
     "name": "stdout",
     "output_type": "stream",
     "text": [
      "Help on class int in module builtins:\n",
      "\n",
      "class int(object)\n",
      " |  int([x]) -> integer\n",
      " |  int(x, base=10) -> integer\n",
      " |  \n",
      " |  Convert a number or string to an integer, or return 0 if no arguments\n",
      " |  are given.  If x is a number, return x.__int__().  For floating point\n",
      " |  numbers, this truncates towards zero.\n",
      " |  \n",
      " |  If x is not a number or if base is given, then x must be a string,\n",
      " |  bytes, or bytearray instance representing an integer literal in the\n",
      " |  given base.  The literal can be preceded by '+' or '-' and be surrounded\n",
      " |  by whitespace.  The base defaults to 10.  Valid bases are 0 and 2-36.\n",
      " |  Base 0 means to interpret the base from the string as an integer literal.\n",
      " |  >>> int('0b100', base=0)\n",
      " |  4\n",
      " |  \n",
      " |  Built-in subclasses:\n",
      " |      bool\n",
      " |  \n",
      " |  Methods defined here:\n",
      " |  \n",
      " |  __abs__(self, /)\n",
      " |      abs(self)\n",
      " |  \n",
      " |  __add__(self, value, /)\n",
      " |      Return self+value.\n",
      " |  \n",
      " |  __and__(self, value, /)\n",
      " |      Return self&value.\n",
      " |  \n",
      " |  __bool__(self, /)\n",
      " |      True if self else False\n",
      " |  \n",
      " |  __ceil__(...)\n",
      " |      Ceiling of an Integral returns itself.\n",
      " |  \n",
      " |  __divmod__(self, value, /)\n",
      " |      Return divmod(self, value).\n",
      " |  \n",
      " |  __eq__(self, value, /)\n",
      " |      Return self==value.\n",
      " |  \n",
      " |  __float__(self, /)\n",
      " |      float(self)\n",
      " |  \n",
      " |  __floor__(...)\n",
      " |      Flooring an Integral returns itself.\n",
      " |  \n",
      " |  __floordiv__(self, value, /)\n",
      " |      Return self//value.\n",
      " |  \n",
      " |  __format__(self, format_spec, /)\n",
      " |      Default object formatter.\n",
      " |  \n",
      " |  __ge__(self, value, /)\n",
      " |      Return self>=value.\n",
      " |  \n",
      " |  __getattribute__(self, name, /)\n",
      " |      Return getattr(self, name).\n",
      " |  \n",
      " |  __getnewargs__(self, /)\n",
      " |  \n",
      " |  __gt__(self, value, /)\n",
      " |      Return self>value.\n",
      " |  \n",
      " |  __hash__(self, /)\n",
      " |      Return hash(self).\n",
      " |  \n",
      " |  __index__(self, /)\n",
      " |      Return self converted to an integer, if self is suitable for use as an index into a list.\n",
      " |  \n",
      " |  __int__(self, /)\n",
      " |      int(self)\n",
      " |  \n",
      " |  __invert__(self, /)\n",
      " |      ~self\n",
      " |  \n",
      " |  __le__(self, value, /)\n",
      " |      Return self<=value.\n",
      " |  \n",
      " |  __lshift__(self, value, /)\n",
      " |      Return self<<value.\n",
      " |  \n",
      " |  __lt__(self, value, /)\n",
      " |      Return self<value.\n",
      " |  \n",
      " |  __mod__(self, value, /)\n",
      " |      Return self%value.\n",
      " |  \n",
      " |  __mul__(self, value, /)\n",
      " |      Return self*value.\n",
      " |  \n",
      " |  __ne__(self, value, /)\n",
      " |      Return self!=value.\n",
      " |  \n",
      " |  __neg__(self, /)\n",
      " |      -self\n",
      " |  \n",
      " |  __or__(self, value, /)\n",
      " |      Return self|value.\n",
      " |  \n",
      " |  __pos__(self, /)\n",
      " |      +self\n",
      " |  \n",
      " |  __pow__(self, value, mod=None, /)\n",
      " |      Return pow(self, value, mod).\n",
      " |  \n",
      " |  __radd__(self, value, /)\n",
      " |      Return value+self.\n",
      " |  \n",
      " |  __rand__(self, value, /)\n",
      " |      Return value&self.\n",
      " |  \n",
      " |  __rdivmod__(self, value, /)\n",
      " |      Return divmod(value, self).\n",
      " |  \n",
      " |  __repr__(self, /)\n",
      " |      Return repr(self).\n",
      " |  \n",
      " |  __rfloordiv__(self, value, /)\n",
      " |      Return value//self.\n",
      " |  \n",
      " |  __rlshift__(self, value, /)\n",
      " |      Return value<<self.\n",
      " |  \n",
      " |  __rmod__(self, value, /)\n",
      " |      Return value%self.\n",
      " |  \n",
      " |  __rmul__(self, value, /)\n",
      " |      Return value*self.\n",
      " |  \n",
      " |  __ror__(self, value, /)\n",
      " |      Return value|self.\n",
      " |  \n",
      " |  __round__(...)\n",
      " |      Rounding an Integral returns itself.\n",
      " |      \n",
      " |      Rounding with an ndigits argument also returns an integer.\n",
      " |  \n",
      " |  __rpow__(self, value, mod=None, /)\n",
      " |      Return pow(value, self, mod).\n",
      " |  \n",
      " |  __rrshift__(self, value, /)\n",
      " |      Return value>>self.\n",
      " |  \n",
      " |  __rshift__(self, value, /)\n",
      " |      Return self>>value.\n",
      " |  \n",
      " |  __rsub__(self, value, /)\n",
      " |      Return value-self.\n",
      " |  \n",
      " |  __rtruediv__(self, value, /)\n",
      " |      Return value/self.\n",
      " |  \n",
      " |  __rxor__(self, value, /)\n",
      " |      Return value^self.\n",
      " |  \n",
      " |  __sizeof__(self, /)\n",
      " |      Returns size in memory, in bytes.\n",
      " |  \n",
      " |  __sub__(self, value, /)\n",
      " |      Return self-value.\n",
      " |  \n",
      " |  __truediv__(self, value, /)\n",
      " |      Return self/value.\n",
      " |  \n",
      " |  __trunc__(...)\n",
      " |      Truncating an Integral returns itself.\n",
      " |  \n",
      " |  __xor__(self, value, /)\n",
      " |      Return self^value.\n",
      " |  \n",
      " |  as_integer_ratio(self, /)\n",
      " |      Return integer ratio.\n",
      " |      \n",
      " |      Return a pair of integers, whose ratio is exactly equal to the original int\n",
      " |      and with a positive denominator.\n",
      " |      \n",
      " |      >>> (10).as_integer_ratio()\n",
      " |      (10, 1)\n",
      " |      >>> (-10).as_integer_ratio()\n",
      " |      (-10, 1)\n",
      " |      >>> (0).as_integer_ratio()\n",
      " |      (0, 1)\n",
      " |  \n",
      " |  bit_count(self, /)\n",
      " |      Number of ones in the binary representation of the absolute value of self.\n",
      " |      \n",
      " |      Also known as the population count.\n",
      " |      \n",
      " |      >>> bin(13)\n",
      " |      '0b1101'\n",
      " |      >>> (13).bit_count()\n",
      " |      3\n",
      " |  \n",
      " |  bit_length(self, /)\n",
      " |      Number of bits necessary to represent self in binary.\n",
      " |      \n",
      " |      >>> bin(37)\n",
      " |      '0b100101'\n",
      " |      >>> (37).bit_length()\n",
      " |      6\n",
      " |  \n",
      " |  conjugate(...)\n",
      " |      Returns self, the complex conjugate of any int.\n",
      " |  \n",
      " |  to_bytes(self, /, length=1, byteorder='big', *, signed=False)\n",
      " |      Return an array of bytes representing an integer.\n",
      " |      \n",
      " |      length\n",
      " |        Length of bytes object to use.  An OverflowError is raised if the\n",
      " |        integer is not representable with the given number of bytes.  Default\n",
      " |        is length 1.\n",
      " |      byteorder\n",
      " |        The byte order used to represent the integer.  If byteorder is 'big',\n",
      " |        the most significant byte is at the beginning of the byte array.  If\n",
      " |        byteorder is 'little', the most significant byte is at the end of the\n",
      " |        byte array.  To request the native byte order of the host system, use\n",
      " |        `sys.byteorder' as the byte order value.  Default is to use 'big'.\n",
      " |      signed\n",
      " |        Determines whether two's complement is used to represent the integer.\n",
      " |        If signed is False and a negative integer is given, an OverflowError\n",
      " |        is raised.\n",
      " |  \n",
      " |  ----------------------------------------------------------------------\n",
      " |  Class methods defined here:\n",
      " |  \n",
      " |  from_bytes(bytes, byteorder='big', *, signed=False) from builtins.type\n",
      " |      Return the integer represented by the given array of bytes.\n",
      " |      \n",
      " |      bytes\n",
      " |        Holds the array of bytes to convert.  The argument must either\n",
      " |        support the buffer protocol or be an iterable object producing bytes.\n",
      " |        Bytes and bytearray are examples of built-in objects that support the\n",
      " |        buffer protocol.\n",
      " |      byteorder\n",
      " |        The byte order used to represent the integer.  If byteorder is 'big',\n",
      " |        the most significant byte is at the beginning of the byte array.  If\n",
      " |        byteorder is 'little', the most significant byte is at the end of the\n",
      " |        byte array.  To request the native byte order of the host system, use\n",
      " |        `sys.byteorder' as the byte order value.  Default is to use 'big'.\n",
      " |      signed\n",
      " |        Indicates whether two's complement is used to represent the integer.\n",
      " |  \n",
      " |  ----------------------------------------------------------------------\n",
      " |  Static methods defined here:\n",
      " |  \n",
      " |  __new__(*args, **kwargs) from builtins.type\n",
      " |      Create and return a new object.  See help(type) for accurate signature.\n",
      " |  \n",
      " |  ----------------------------------------------------------------------\n",
      " |  Data descriptors defined here:\n",
      " |  \n",
      " |  denominator\n",
      " |      the denominator of a rational number in lowest terms\n",
      " |  \n",
      " |  imag\n",
      " |      the imaginary part of a complex number\n",
      " |  \n",
      " |  numerator\n",
      " |      the numerator of a rational number in lowest terms\n",
      " |  \n",
      " |  real\n",
      " |      the real part of a complex number\n",
      "\n"
     ]
    }
   ],
   "source": [
    "help(int)"
   ]
  },
  {
   "cell_type": "markdown",
   "id": "03aeaa15-3b60-4ac6-9cfc-fba9ec4bde26",
   "metadata": {},
   "source": [
    "# Orden en los parametros"
   ]
  },
  {
   "cell_type": "markdown",
   "id": "620c1d4c-9c79-4e9d-a2b7-686a0e5d525c",
   "metadata": {},
   "source": [
    "En Python, los parámetros de una función pueden ser pasados en diferentes órdenes según cómo se defina la función. Hay tres tipos principales de parámetros en Python: \n",
    "- Posicionales,\n",
    "- Por palabra clave (keyword) \n",
    "- Parámetros por defecto. "
   ]
  },
  {
   "cell_type": "markdown",
   "id": "a45644c0-0bb2-4c30-b6de-360e084023eb",
   "metadata": {},
   "source": [
    "### Parámetros Posicionales:\n",
    "Estos son los parámetros más comunes en las funciones. Se pasan en el mismo orden en el que se define función."
   ]
  },
  {
   "cell_type": "code",
   "execution_count": 40,
   "id": "b0e0cfae-c09f-4532-9a0a-0d072759ddd9",
   "metadata": {},
   "outputs": [
    {
     "ename": "NameError",
     "evalue": "name 'valor1' is not defined",
     "output_type": "error",
     "traceback": [
      "\u001b[0;31m---------------------------------------------------------------------------\u001b[0m",
      "\u001b[0;31mNameError\u001b[0m                                 Traceback (most recent call last)",
      "Cell \u001b[0;32mIn[40], line 4\u001b[0m\n\u001b[1;32m      1\u001b[0m \u001b[38;5;28;01mdef\u001b[39;00m \u001b[38;5;21mfuncion\u001b[39m(pos1, pos2):\n\u001b[1;32m      2\u001b[0m     \u001b[38;5;28;01mpass\u001b[39;00m\n\u001b[0;32m----> 4\u001b[0m funcion(\u001b[43mvalor1\u001b[49m, valor2)\n",
      "\u001b[0;31mNameError\u001b[0m: name 'valor1' is not defined"
     ]
    }
   ],
   "source": [
    "def funcion(pos1, pos2):\n",
    "    pass\n",
    "\n",
    "funcion(valor1, valor2)"
   ]
  },
  {
   "cell_type": "code",
   "execution_count": 41,
   "id": "dfe7a6fc-ed8f-49ca-9901-9243107c12e6",
   "metadata": {},
   "outputs": [],
   "source": [
    "def funcion(pos1, pos2):\n",
    "    print(pos1)\n",
    "    print(pos2)"
   ]
  },
  {
   "cell_type": "code",
   "execution_count": 43,
   "id": "2f11716d-c17c-4060-9c11-f925dee149b5",
   "metadata": {},
   "outputs": [
    {
     "name": "stdout",
     "output_type": "stream",
     "text": [
      "2\n",
      "1\n"
     ]
    }
   ],
   "source": [
    "valor1 = 1\n",
    "valor2 = 2\n",
    "funcion(valor2,valor1)"
   ]
  },
  {
   "cell_type": "markdown",
   "id": "6bde3226-e751-4962-acd4-41f1de3d5d97",
   "metadata": {},
   "source": [
    "### Parámetros por Palabra Clave:\n",
    "Puedes pasar los parámetros en cualquier orden especificando el nombre del parámetro al llamar la función. Esto es útil cuando tienes una función con muchos parámetros y quieres evitar confusión."
   ]
  },
  {
   "cell_type": "code",
   "execution_count": null,
   "id": "9145f630-95b8-4e63-8799-a28afeb6241b",
   "metadata": {},
   "outputs": [],
   "source": [
    "def funcion(param1, param2):\n",
    "    # Código\n",
    "\n",
    "funcion(param2=valor2, param1=valor1)"
   ]
  },
  {
   "cell_type": "code",
   "execution_count": 44,
   "id": "bb05c0f7-b620-4af3-994d-f69239253024",
   "metadata": {},
   "outputs": [
    {
     "name": "stdout",
     "output_type": "stream",
     "text": [
      "1\n",
      "2\n"
     ]
    }
   ],
   "source": [
    "def funcion(param1, param2):\n",
    "    print(param1)\n",
    "    print(param2)\n",
    "\n",
    "valor1 = 1\n",
    "valor2 = 2\n",
    "funcion(param2=valor2, param1=valor1)"
   ]
  },
  {
   "cell_type": "markdown",
   "id": "dbab7d9f-a80b-43da-a712-cef2ba3dae22",
   "metadata": {},
   "source": [
    "### Parámetros por Defecto:\n",
    "Puedes asignar valores por defecto a los parámetros en la definición de la función. Estos valores serán utilizados si no se proporcionan valores al llamar la función."
   ]
  },
  {
   "cell_type": "code",
   "execution_count": 45,
   "id": "61c71e37-1097-4cfc-84d7-5172a7b2b23d",
   "metadata": {},
   "outputs": [
    {
     "name": "stdout",
     "output_type": "stream",
     "text": [
      "1\n",
      "valor_por_defecto\n"
     ]
    }
   ],
   "source": [
    "def funcion(param1, param2=\"valor_por_defecto\"):\n",
    "    print(param1)\n",
    "    print(param2)\n",
    "\n",
    "valor = 1\n",
    "funcion(valor1)  # param2 tomará el valor \"valor_por_defecto\"\n"
   ]
  },
  {
   "cell_type": "markdown",
   "id": "be779c74-5d28-4a4e-8db6-116622c82e5a",
   "metadata": {},
   "source": [
    "# Uso de *arg"
   ]
  },
  {
   "cell_type": "markdown",
   "id": "8d2cb542-e132-40e1-af65-f4fb106890be",
   "metadata": {},
   "source": [
    "Gracias a los *args en Python, podemos definir funciones cuyo número de argumentos es variable. Es decir, podemos definir funciones genéricas que no aceptan un número determinado de parámetros, sino que se “adaptan” al número de argumentos con los que son llamados.\n",
    "\n",
    "De hecho, el args viene de arguments en Inglés, o argumentos. Haciendo uso de *args en la declaración de la función podemos hacer que el número de parámetros que acepte sea variable."
   ]
  },
  {
   "cell_type": "markdown",
   "id": "2df815d2-7311-4aac-8e1e-a31a0c5cdc61",
   "metadata": {},
   "source": [
    "# Uso de **kwargs"
   ]
  },
  {
   "cell_type": "code",
   "execution_count": null,
   "id": "f73a186f-efa6-4d8e-a89f-b80b2f4ebf93",
   "metadata": {},
   "outputs": [],
   "source": []
  }
 ],
 "metadata": {
  "kernelspec": {
   "display_name": "Python 3 (ipykernel)",
   "language": "python",
   "name": "python3"
  },
  "language_info": {
   "codemirror_mode": {
    "name": "ipython",
    "version": 3
   },
   "file_extension": ".py",
   "mimetype": "text/x-python",
   "name": "python",
   "nbconvert_exporter": "python",
   "pygments_lexer": "ipython3",
   "version": "3.11.4"
  }
 },
 "nbformat": 4,
 "nbformat_minor": 5
}
