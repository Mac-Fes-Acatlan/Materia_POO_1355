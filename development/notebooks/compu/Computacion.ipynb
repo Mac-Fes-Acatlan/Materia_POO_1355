{
 "cells": [
  {
   "cell_type": "code",
   "execution_count": 5,
   "id": "8c6c1f59-71a6-421f-8ad3-90baac7b6f4d",
   "metadata": {},
   "outputs": [],
   "source": [
    "def quickshort(arr):\n",
    "\n",
    "    if len(arr)<=1:\n",
    "        return arr\n",
    "\n",
    "    pivote = arr[len(arr)//2]\n",
    "    izquierdo = [x for x in arr if x<pivote]\n",
    "    centro = [x for x in arr if x==pivote]\n",
    "    derecho = [x for x in arr if x>pivote]\n",
    "\n",
    "    return quickshort(izquierdo) + centro + quickshort(derecho)"
   ]
  },
  {
   "cell_type": "code",
   "execution_count": 6,
   "id": "ff331505-bda0-4544-9c51-bea3482cb321",
   "metadata": {},
   "outputs": [],
   "source": [
    "arr  = [6,3,1,1,130,-4,2]\n"
   ]
  },
  {
   "cell_type": "code",
   "execution_count": 7,
   "id": "b06f3209-2630-4fbc-83b1-29f20eb4d854",
   "metadata": {},
   "outputs": [],
   "source": [
    "resultado = quickshort(arr)"
   ]
  },
  {
   "cell_type": "code",
   "execution_count": 8,
   "id": "82e33cee-8b66-4e99-9dc9-bcf98f47329a",
   "metadata": {},
   "outputs": [
    {
     "data": {
      "text/plain": [
       "[-4, 1, 1, 2, 3, 6, 130]"
      ]
     },
     "execution_count": 8,
     "metadata": {},
     "output_type": "execute_result"
    }
   ],
   "source": [
    "resultado"
   ]
  },
  {
   "cell_type": "code",
   "execution_count": null,
   "id": "b3c42e1a-fb17-4d18-8a97-cbdf33fcbd11",
   "metadata": {},
   "outputs": [],
   "source": []
  }
 ],
 "metadata": {
  "kernelspec": {
   "display_name": "Python 3 (ipykernel)",
   "language": "python",
   "name": "python3"
  },
  "language_info": {
   "codemirror_mode": {
    "name": "ipython",
    "version": 3
   },
   "file_extension": ".py",
   "mimetype": "text/x-python",
   "name": "python",
   "nbconvert_exporter": "python",
   "pygments_lexer": "ipython3",
   "version": "3.11.4"
  }
 },
 "nbformat": 4,
 "nbformat_minor": 5
}
