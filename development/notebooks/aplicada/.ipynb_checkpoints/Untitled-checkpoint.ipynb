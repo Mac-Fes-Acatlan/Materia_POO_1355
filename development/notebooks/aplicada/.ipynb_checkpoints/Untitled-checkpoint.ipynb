{
 "cells": [
  {
   "cell_type": "code",
   "execution_count": null,
   "id": "67fc84b9-412c-495a-a2d2-8785f06375b7",
   "metadata": {},
   "outputs": [],
   "source": [
    "def newton_method_with_relative_error(f, f_prime, x0, tol=1e-10, max_iter=1000):\n",
    "    x = x0\n",
    "    for i in range(max_iter):\n",
    "        fx = f(x)\n",
    "        fpx = f_prime(x)\n",
    "        if abs(fpx) < 1e-15:\n",
    "            raise ValueError(\"La derivada se hizo cero. No se puede continuar.\")\n",
    "        x_new = x - fx / fpx\n",
    "        if abs(x_new - x) / abs(x_new) < tol:\n",
    "            return x_new, i\n",
    "        x = x_new\n",
    "    raise ValueError(\"El método no convergió después de {} iteraciones.\".format(max_iter))\n",
    "\n",
    "if __name__ == \"__main__\":\n",
    "    def f(x):\n",
    "        return x**2 - 2\n",
    "\n",
    "    def f_prime(x):\n",
    "        return 2*x\n",
    "\n",
    "    x0 = 1.5\n",
    "    root, num_iterations = newton_method_with_relative_error(f, f_prime, x0)\n",
    "    print(f\"Raíz aproximada: {root} después de {num_iterations} iteraciones.\")\n"
   ]
  }
 ],
 "metadata": {
  "kernelspec": {
   "display_name": "Python 3 (ipykernel)",
   "language": "python",
   "name": "python3"
  },
  "language_info": {
   "codemirror_mode": {
    "name": "ipython",
    "version": 3
   },
   "file_extension": ".py",
   "mimetype": "text/x-python",
   "name": "python",
   "nbconvert_exporter": "python",
   "pygments_lexer": "ipython3",
   "version": "3.11.4"
  }
 },
 "nbformat": 4,
 "nbformat_minor": 5
}
