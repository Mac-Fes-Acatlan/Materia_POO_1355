{
 "cells": [
  {
   "cell_type": "code",
   "execution_count": 3,
   "id": "6111e113-df3d-485c-a963-576a93b5175c",
   "metadata": {},
   "outputs": [],
   "source": []
  },
  {
   "cell_type": "code",
   "execution_count": 24,
   "id": "908db69b-8d90-499d-aa97-3795256ed743",
   "metadata": {},
   "outputs": [
    {
     "name": "stdout",
     "output_type": "stream",
     "text": [
      "Raíz aproximada: 1.4142135623730951 después de 3 iteraciones.\n"
     ]
    }
   ],
   "source": [
    "\n",
    "if __name__ == \"__main__\":\n",
    "    def f(x):\n",
    "        return x**2 - 2\n",
    "\n",
    "    def f_prime(x):\n",
    "        return 2*x\n",
    "\n",
    "    x0 = 1.5\n",
    "    root, num_iterations = newton_method_with_relative_error(f, f_prime, x0)\n",
    "    print(f\"Raíz aproximada: {root} después de {num_iterations} iteraciones.\")\n"
   ]
  },
  {
   "cell_type": "markdown",
   "id": "f5f4cd4c-f2d6-4fda-890e-c68c31cdfadd",
   "metadata": {},
   "source": [
    "# Funcion"
   ]
  },
  {
   "cell_type": "code",
   "execution_count": 43,
   "id": "d1a00e04-b3a0-4f8c-bdfc-516f740383a4",
   "metadata": {},
   "outputs": [],
   "source": [
    "class Funcion:\n",
    "\n",
    "    def __init__(self):\n",
    "        pass\n",
    "\n",
    "    def f(self,x):\n",
    "        return x**2 -2 \n",
    "    \n",
    "    def f_prime(self,x):\n",
    "        return 2*x "
   ]
  },
  {
   "cell_type": "code",
   "execution_count": 50,
   "id": "9556b537-a303-4528-aebb-cd99ebae00d5",
   "metadata": {},
   "outputs": [],
   "source": [
    "class MetodoNumRaices:\n",
    "\n",
    "    def __init__(self\n",
    "                ,funcion\n",
    "                ,x_one\n",
    "                ,tolerancia\n",
    "                ,numero_iteraciones\n",
    "               ):\n",
    "        \n",
    "\n",
    "        self.dict_valores_method = {\n",
    "            \"x_0\":x_one,\n",
    "            \"tolerancia\":tolerancia,\n",
    "            \"numero_iteraciones\":numero_iteraciones,\n",
    "            \"funcion_obj\":funcion\n",
    "        }\n",
    "        \n",
    "\n",
    "    def solucion_raiz(self,typo_metodo:str):\n",
    "\n",
    "        if typo_metodo == \"newton_rapson\":\n",
    "\n",
    "            newton_rapson_obj = NewtoRapson(\n",
    "                                        self.dict_valores_method\n",
    "            )\n",
    "            return newton_rapson_obj.method_newton_rapson()\n",
    "            \n",
    "            \n",
    "        "
   ]
  },
  {
   "cell_type": "code",
   "execution_count": 51,
   "id": "a47debab-f0ed-4034-bfc3-a7251c87646f",
   "metadata": {},
   "outputs": [],
   "source": [
    "class NewtoRapson:\n",
    "\n",
    "    def __init__(self,dict_valores):\n",
    "        \n",
    "        self.dict_valores_method= dict_valores\n",
    "\n",
    "    def method_newton_rapson(self):\n",
    "        \n",
    "        x = self.dict_valores_method[\"x_0\"]\n",
    "        \n",
    "        for i in range(self.dict_valores_method[\"numero_iteraciones\"]):\n",
    "            \n",
    "            fx = self.dict_valores_method[\"funcion_obj\"].f(x)\n",
    "            fpx = self.dict_valores_method[\"funcion_obj\"].f_prime(x)\n",
    "            \n",
    "            if abs(fpx) < 1e-15:\n",
    "                raise ValueError(\"La derivada se hizo cero. No se puede continuar.\")\n",
    "            x_new = x - fx / fpx\n",
    "            if abs(x_new - x) / abs(x_new) < self.dict_valores_method[\"tolerancia\"]:\n",
    "                return x_new, i\n",
    "            x = x_new\n",
    "        raise ValueError(\"El método no convergió después de {} iteraciones.\".format(max_iter))\n"
   ]
  },
  {
   "cell_type": "markdown",
   "id": "07efde49-3e57-40df-98e6-7ab7d369c39c",
   "metadata": {},
   "source": [
    "# Flujo"
   ]
  },
  {
   "cell_type": "code",
   "execution_count": 52,
   "id": "ee5dde5d-106a-4d25-ad83-227d823b1de6",
   "metadata": {},
   "outputs": [],
   "source": [
    "funcion_obj = Funcion()"
   ]
  },
  {
   "cell_type": "code",
   "execution_count": 53,
   "id": "8d6f7e51-66f5-4bbb-bca7-11e1a6c1e837",
   "metadata": {},
   "outputs": [],
   "source": [
    "metodonum_raiz_obj = MetodoNumRaices(\n",
    "    funcion_obj\n",
    "    ,1.5\n",
    "    ,1e-10\n",
    "    ,1000\n",
    ")"
   ]
  },
  {
   "cell_type": "code",
   "execution_count": 54,
   "id": "4758904f-3835-4b22-832f-0007c1192417",
   "metadata": {},
   "outputs": [],
   "source": [
    "x_values,iteracion=metodonum_raiz_obj.solucion_raiz(\"newton_rapson\")"
   ]
  },
  {
   "cell_type": "code",
   "execution_count": 55,
   "id": "c77f993d-c407-4fa4-9465-d53c1e973547",
   "metadata": {},
   "outputs": [
    {
     "data": {
      "text/plain": [
       "(1.4142135623730951, 3)"
      ]
     },
     "execution_count": 55,
     "metadata": {},
     "output_type": "execute_result"
    }
   ],
   "source": [
    "x_values,iteracion"
   ]
  }
 ],
 "metadata": {
  "kernelspec": {
   "display_name": "Python 3 (ipykernel)",
   "language": "python",
   "name": "python3"
  },
  "language_info": {
   "codemirror_mode": {
    "name": "ipython",
    "version": 3
   },
   "file_extension": ".py",
   "mimetype": "text/x-python",
   "name": "python",
   "nbconvert_exporter": "python",
   "pygments_lexer": "ipython3",
   "version": "3.11.4"
  }
 },
 "nbformat": 4,
 "nbformat_minor": 5
}
