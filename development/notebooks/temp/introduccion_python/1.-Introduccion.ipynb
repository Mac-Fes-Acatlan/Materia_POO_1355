{
 "cells": [
  {
   "cell_type": "markdown",
   "id": "9d9d7244-d15c-46bd-a805-cf213d5a9221",
   "metadata": {},
   "source": [
    "# Hola mundo en Python"
   ]
  },
  {
   "cell_type": "code",
   "execution_count": 1,
   "id": "5e267afe-eeff-4574-af62-125c6a6a1529",
   "metadata": {},
   "outputs": [
    {
     "name": "stdout",
     "output_type": "stream",
     "text": [
      "Hola mundo\n"
     ]
    }
   ],
   "source": [
    "print(\"Hola mundo\")"
   ]
  },
  {
   "cell_type": "markdown",
   "id": "10a7b57d-2cc5-4760-a936-310b5d7f2cfc",
   "metadata": {},
   "source": [
    "# Tipos de variables"
   ]
  },
  {
   "cell_type": "code",
   "execution_count": 2,
   "id": "5061d794-bc10-4e4d-9007-b4897f091d43",
   "metadata": {},
   "outputs": [],
   "source": [
    "variable_char = 'c'"
   ]
  },
  {
   "cell_type": "code",
   "execution_count": 3,
   "id": "7df36b9c-9309-4cf4-9256-e15b775ea98a",
   "metadata": {},
   "outputs": [
    {
     "name": "stdout",
     "output_type": "stream",
     "text": [
      "c\n"
     ]
    }
   ],
   "source": [
    "print(variable_char)"
   ]
  },
  {
   "cell_type": "code",
   "execution_count": 4,
   "id": "ff880c92-8c56-4476-b2c5-16f6cdd80eb5",
   "metadata": {},
   "outputs": [],
   "source": [
    "variable_cadena = \"cadena\""
   ]
  },
  {
   "cell_type": "code",
   "execution_count": 5,
   "id": "694ef61e-a726-4bce-a350-c583b4d6b086",
   "metadata": {},
   "outputs": [
    {
     "name": "stdout",
     "output_type": "stream",
     "text": [
      "cadena\n"
     ]
    }
   ],
   "source": [
    "print(variable_cadena)"
   ]
  },
  {
   "cell_type": "code",
   "execution_count": 6,
   "id": "2a46a831-7a66-41e9-bd5b-6eca13f1320c",
   "metadata": {},
   "outputs": [],
   "source": [
    "variable_entero = 5"
   ]
  },
  {
   "cell_type": "code",
   "execution_count": 7,
   "id": "ce3a95fc-78fe-4646-85af-096e519896e8",
   "metadata": {},
   "outputs": [
    {
     "name": "stdout",
     "output_type": "stream",
     "text": [
      "5\n"
     ]
    }
   ],
   "source": [
    "print(variable_entero)"
   ]
  },
  {
   "cell_type": "code",
   "execution_count": 8,
   "id": "afd05de9-bcc1-4f16-acc9-835438f37104",
   "metadata": {},
   "outputs": [],
   "source": [
    "variable_flotante = 3.1416"
   ]
  },
  {
   "cell_type": "code",
   "execution_count": 9,
   "id": "a25578fb-70c1-4e96-81e9-b0766d6eb2e7",
   "metadata": {},
   "outputs": [
    {
     "name": "stdout",
     "output_type": "stream",
     "text": [
      "3.1416\n"
     ]
    }
   ],
   "source": [
    "print(variable_flotante)"
   ]
  },
  {
   "cell_type": "code",
   "execution_count": 16,
   "id": "0ce3877e-70da-4eb0-a692-0ab4a8576860",
   "metadata": {},
   "outputs": [],
   "source": [
    "variable_entera = 1\n",
    "variable_flotante = 1.0"
   ]
  },
  {
   "cell_type": "code",
   "execution_count": 17,
   "id": "82b04930-ef66-41a7-8ea9-ab2a817ce630",
   "metadata": {},
   "outputs": [
    {
     "data": {
      "text/plain": [
       "int"
      ]
     },
     "execution_count": 17,
     "metadata": {},
     "output_type": "execute_result"
    }
   ],
   "source": [
    "type(variable_entera)"
   ]
  },
  {
   "cell_type": "code",
   "execution_count": 18,
   "id": "13806bdb-28b5-443b-a2d6-9e5cbb7fde11",
   "metadata": {},
   "outputs": [
    {
     "data": {
      "text/plain": [
       "float"
      ]
     },
     "execution_count": 18,
     "metadata": {},
     "output_type": "execute_result"
    }
   ],
   "source": [
    "type(variable_flotante)"
   ]
  },
  {
   "cell_type": "code",
   "execution_count": 20,
   "id": "ac7cb117-c717-48f2-b805-290f5ac073de",
   "metadata": {},
   "outputs": [],
   "source": [
    "variable = True\n",
    "variable = False\n"
   ]
  },
  {
   "cell_type": "markdown",
   "id": "9a1c78d2-7055-45ce-8ef2-fa1f7000e126",
   "metadata": {},
   "source": [
    "# Sumando variables en Python"
   ]
  },
  {
   "cell_type": "code",
   "execution_count": 21,
   "id": "13053819-70ec-4c72-9483-c3e385e1d0d5",
   "metadata": {},
   "outputs": [
    {
     "name": "stdout",
     "output_type": "stream",
     "text": [
      "48\n"
     ]
    }
   ],
   "source": [
    "a = 3\n",
    "b = 45\n",
    "c = a+b \n",
    "print(c)"
   ]
  },
  {
   "cell_type": "markdown",
   "id": "01cfa78c-13fe-4a86-864e-c2290b9239dd",
   "metadata": {},
   "source": [
    "# Identacion"
   ]
  },
  {
   "cell_type": "code",
   "execution_count": 24,
   "id": "0e3255fc-4444-40d4-ad0b-5470aee1e6c2",
   "metadata": {},
   "outputs": [
    {
     "name": "stdout",
     "output_type": "stream",
     "text": [
      "cuatro\n"
     ]
    }
   ],
   "source": [
    "a = 4\n",
    "\n",
    "if a == 4:\n",
    "    if a != 5:\n",
    "        print(\"cuatro\")\n",
    "    else:\n",
    "        print(\"cinco\")\n",
    "        "
   ]
  },
  {
   "cell_type": "markdown",
   "id": "5289fe55-1a4c-4b41-be2b-54e4d48d502d",
   "metadata": {},
   "source": [
    "# Ejemplos para practicar"
   ]
  },
  {
   "cell_type": "markdown",
   "id": "e430acf8-161c-4732-90c1-15b3353f4c88",
   "metadata": {},
   "source": [
    "- Imprime por pantalla tu numero de cuenta \n",
    "- Imprime por pantalla la resta de dos numeros"
   ]
  },
  {
   "cell_type": "code",
   "execution_count": 31,
   "id": "69516b1e-9053-47dd-beda-97f7cee7ac59",
   "metadata": {},
   "outputs": [
    {
     "name": "stdout",
     "output_type": "stream",
     "text": [
      "423059436\n",
      "140494422491344\n",
      "12\n",
      "94167373095880\n"
     ]
    }
   ],
   "source": [
    "a =  423059436\n",
    "print(a)\n",
    "print(id(a))\n",
    "a = 12\n",
    "print(a)\n",
    "print(id(a))"
   ]
  },
  {
   "cell_type": "code",
   "execution_count": 33,
   "id": "f4165530-6645-4111-9364-418effb6b8ec",
   "metadata": {},
   "outputs": [
    {
     "name": "stdout",
     "output_type": "stream",
     "text": [
      "-5\n"
     ]
    }
   ],
   "source": [
    "a1 = 5\n",
    "a2 = 10\n",
    "resta = a1-a2\n",
    "print(resta)"
   ]
  },
  {
   "cell_type": "code",
   "execution_count": 1,
   "id": "a10973b8",
   "metadata": {},
   "outputs": [],
   "source": [
    "from pyspark.sql import SparkSession"
   ]
  },
  {
   "cell_type": "code",
   "execution_count": 2,
   "id": "07b4fac9-99b0-41ae-a13d-43d023a7620e",
   "metadata": {},
   "outputs": [],
   "source": [
    "spark = SparkSession.builder.appName(\"emgie\").getOrCreate()"
   ]
  },
  {
   "cell_type": "code",
   "execution_count": null,
   "id": "91791376-0112-4723-80c3-299ff982eedd",
   "metadata": {},
   "outputs": [],
   "source": [
    "spark."
   ]
  }
 ],
 "metadata": {
  "kernelspec": {
   "display_name": "Python 3 (ipykernel)",
   "language": "python",
   "name": "python3"
  },
  "language_info": {
   "codemirror_mode": {
    "name": "ipython",
    "version": 3
   },
   "file_extension": ".py",
   "mimetype": "text/x-python",
   "name": "python",
   "nbconvert_exporter": "python",
   "pygments_lexer": "ipython3",
   "version": "3.11.4"
  },
  "vscode": {
   "interpreter": {
    "hash": "916dbcbb3f70747c44a77c7bcd40155683ae19c65e1c03b4aa3499c5328201f1"
   }
  }
 },
 "nbformat": 4,
 "nbformat_minor": 5
}
