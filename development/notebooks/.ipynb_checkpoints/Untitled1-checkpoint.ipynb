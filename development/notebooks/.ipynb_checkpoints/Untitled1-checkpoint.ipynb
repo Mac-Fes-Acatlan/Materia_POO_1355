{
 "cells": [
  {
   "cell_type": "markdown",
   "id": "fa86b36d-07e7-48ec-a0e3-d82aee39636a",
   "metadata": {},
   "source": [
    "# *args "
   ]
  },
  {
   "cell_type": "code",
   "execution_count": 19,
   "id": "697a8bee-89f9-46f4-a07f-615c3d1056e8",
   "metadata": {},
   "outputs": [],
   "source": [
    "def suma(*args):\n",
    "\n",
    "    print(type(args))\n",
    "    print(args)\n",
    "    variable = 0\n",
    "    for i in args:\n",
    "        variable += i\n",
    "\n",
    "    print(variable)"
   ]
  },
  {
   "cell_type": "code",
   "execution_count": 21,
   "id": "de380188-2c0c-413b-aee4-16813bf4982a",
   "metadata": {},
   "outputs": [
    {
     "name": "stdout",
     "output_type": "stream",
     "text": [
      "<class 'tuple'>\n",
      "(1, 3, 2, 4)\n",
      "10\n"
     ]
    }
   ],
   "source": [
    "suma(1,3,2,4)"
   ]
  },
  {
   "cell_type": "code",
   "execution_count": 12,
   "id": "a2b0e383-c84a-4a2b-8f6d-7020080a5b87",
   "metadata": {},
   "outputs": [
    {
     "name": "stdout",
     "output_type": "stream",
     "text": [
      "<class 'tuple'>\n",
      "3\n"
     ]
    }
   ],
   "source": [
    "suma(1,2)"
   ]
  },
  {
   "cell_type": "markdown",
   "id": "3147a9a0-698d-4656-b90d-8a3261c72aa5",
   "metadata": {},
   "source": [
    "# **kwargs"
   ]
  },
  {
   "cell_type": "code",
   "execution_count": 25,
   "id": "b784ed2f-13ef-4407-85c2-30d8821afae8",
   "metadata": {},
   "outputs": [],
   "source": [
    "def suma(**kwargs):\n",
    "\n",
    "    for key, value in kwargs.items():\n",
    "        print(key,value)\n",
    "\n",
    "    print(kwargs[\"a\"])"
   ]
  },
  {
   "cell_type": "code",
   "execution_count": 27,
   "id": "eeae1dac-a4af-4ac6-a906-c5a62a05e1b9",
   "metadata": {},
   "outputs": [
    {
     "name": "stdout",
     "output_type": "stream",
     "text": [
      "a 1\n",
      "c 3\n",
      "b 2\n",
      "1\n"
     ]
    }
   ],
   "source": [
    "suma(a=1,c=3,b=2)"
   ]
  },
  {
   "cell_type": "code",
   "execution_count": 24,
   "id": "019bf697-b83a-450d-85fe-2f092a89e318",
   "metadata": {},
   "outputs": [
    {
     "name": "stdout",
     "output_type": "stream",
     "text": [
      "c 3\n",
      "a 1\n",
      "b 2\n",
      "d 23\n"
     ]
    }
   ],
   "source": [
    "suma(c=3,a=1,b=2,d=23)"
   ]
  },
  {
   "cell_type": "code",
   "execution_count": 29,
   "id": "d428bfd3-75bb-42fa-9c89-c93521af81a7",
   "metadata": {},
   "outputs": [],
   "source": [
    "class MiClase:\n",
    "    def __init__(self, valor):\n",
    "        self.valor = valor\n",
    "\n",
    "# Asignación de objetos\n",
    "objeto1 = MiClase(10)\n",
    "objeto2 = objeto1\n"
   ]
  },
  {
   "cell_type": "code",
   "execution_count": 30,
   "id": "1d2eb28d-dae8-4309-8205-ccedfeea664e",
   "metadata": {},
   "outputs": [
    {
     "name": "stdout",
     "output_type": "stream",
     "text": [
      "10\n",
      "10\n"
     ]
    }
   ],
   "source": [
    "# Ambas variables apuntan al mismo objeto\n",
    "print(objeto1.valor)  # Output: 10\n",
    "print(objeto2.valor)  # Output: 10\n",
    "\n"
   ]
  },
  {
   "cell_type": "code",
   "execution_count": 31,
   "id": "d40b5dc5-b1d9-4764-9570-ab5ff2083848",
   "metadata": {},
   "outputs": [],
   "source": [
    "# Modificamos el valor a través de una variable\n",
    "objeto1.valor = 20\n"
   ]
  },
  {
   "cell_type": "code",
   "execution_count": 32,
   "id": "b9a00dd9-0237-4b79-abab-7bc0bdceda64",
   "metadata": {},
   "outputs": [
    {
     "name": "stdout",
     "output_type": "stream",
     "text": [
      "20\n",
      "20\n"
     ]
    }
   ],
   "source": [
    "\n",
    "print(objeto1.valor)  # Output: 20\n",
    "print(objeto2.valor)  # Output: 20"
   ]
  },
  {
   "cell_type": "code",
   "execution_count": 33,
   "id": "2c08b2d7-17ba-474e-b23c-26ebf3148d2f",
   "metadata": {},
   "outputs": [
    {
     "name": "stdout",
     "output_type": "stream",
     "text": [
      "20\n",
      "10\n"
     ]
    }
   ],
   "source": [
    "class MiClase:\n",
    "    def __init__(self, valor):\n",
    "        self.valor = valor\n",
    "\n",
    "    def copy(self):\n",
    "        return MiClase(self.valor)\n",
    "\n",
    "# Copia de objetos\n",
    "objeto1 = MiClase(10)\n",
    "objeto2 = objeto1.copy()\n",
    "\n",
    "# objeto2 es una copia independiente de objeto1\n",
    "objeto1.valor = 20\n",
    "\n",
    "print(objeto1.valor)  # Output: 20\n",
    "print(objeto2.valor)  # Output: 10\n"
   ]
  },
  {
   "cell_type": "code",
   "execution_count": 60,
   "id": "92519287-05ee-4fda-a805-7cb72039f6b4",
   "metadata": {},
   "outputs": [],
   "source": [
    "class Proyector:\n",
    "\n",
    "    def __init__(self,marca:str)->None:\n",
    "        self._marca = marca\n",
    "\n",
    "    @property \n",
    "    def marca(self):\n",
    "        return self._marca\n",
    "\n",
    "class Clase:\n",
    "\n",
    "    def __init__(self,nombre:str)->None:\n",
    "        self._nombre = nombre \n",
    "\n",
    "    def funcion_recib_obj(self,alumno)->str:\n",
    "        return print(f\"El nombre del alumo es : {alumno.nombre}\")\n",
    "\n",
    "    def funcion_retorna_objeto(self)->Proyector:\n",
    "        proyector_obj = Proyector(\"epson\")\n",
    "        return proyector_obj"
   ]
  },
  {
   "cell_type": "code",
   "execution_count": 53,
   "id": "e7dbd319-286b-4826-aca2-a23bfc2f3373",
   "metadata": {},
   "outputs": [],
   "source": [
    "class Alumno:\n",
    "\n",
    "    def __init__(self,nombre:str)->None:\n",
    "        self._nombre = nombre \n",
    "\n",
    "    @property\n",
    "    def nombre(self):\n",
    "        return self._nombre"
   ]
  },
  {
   "cell_type": "code",
   "execution_count": 54,
   "id": "1f5e54d1-10e1-4f54-b612-7586c3cfe2a4",
   "metadata": {},
   "outputs": [],
   "source": [
    "clase_obj = Clase(\"POO\")"
   ]
  },
  {
   "cell_type": "code",
   "execution_count": 55,
   "id": "3c5b2951-7fcb-4acc-a218-6539615d8bc3",
   "metadata": {},
   "outputs": [],
   "source": [
    "alumno_obj = Alumno(\"Javier\")"
   ]
  },
  {
   "cell_type": "code",
   "execution_count": 56,
   "id": "f89ef06b-c0b9-4b5f-8ba3-1fbd8fcd9b11",
   "metadata": {},
   "outputs": [
    {
     "name": "stdout",
     "output_type": "stream",
     "text": [
      "El nombre del alumo es : Javier\n"
     ]
    }
   ],
   "source": [
    "clase_obj.funcion_recib_obj(alumno_obj)"
   ]
  },
  {
   "cell_type": "code",
   "execution_count": 57,
   "id": "a64431a2-cb3d-4dc3-817f-692353b86e92",
   "metadata": {},
   "outputs": [
    {
     "data": {
      "text/plain": [
       "'Javier'"
      ]
     },
     "execution_count": 57,
     "metadata": {},
     "output_type": "execute_result"
    }
   ],
   "source": [
    "alumno_obj.nombre"
   ]
  },
  {
   "cell_type": "markdown",
   "id": "d3f3f920-4405-4e3c-a55f-9bfeefccacb1",
   "metadata": {},
   "source": [
    "# Retorna objeto"
   ]
  },
  {
   "cell_type": "code",
   "execution_count": 58,
   "id": "f4eb067d-f644-462c-b671-59869eabfdee",
   "metadata": {},
   "outputs": [],
   "source": [
    "proyector_two_obj = clase_obj.funcion_retorna_objeto()"
   ]
  },
  {
   "cell_type": "code",
   "execution_count": 59,
   "id": "c6438174-07af-4b23-89ee-7bf7faf029c7",
   "metadata": {},
   "outputs": [
    {
     "data": {
      "text/plain": [
       "'epson'"
      ]
     },
     "execution_count": 59,
     "metadata": {},
     "output_type": "execute_result"
    }
   ],
   "source": [
    "proyector_two_obj.marca"
   ]
  },
  {
   "cell_type": "code",
   "execution_count": null,
   "id": "5a5d30f4-daba-40b9-bcab-f99877e5cf5a",
   "metadata": {},
   "outputs": [],
   "source": []
  }
 ],
 "metadata": {
  "kernelspec": {
   "display_name": "Python 3 (ipykernel)",
   "language": "python",
   "name": "python3"
  },
  "language_info": {
   "codemirror_mode": {
    "name": "ipython",
    "version": 3
   },
   "file_extension": ".py",
   "mimetype": "text/x-python",
   "name": "python",
   "nbconvert_exporter": "python",
   "pygments_lexer": "ipython3",
   "version": "3.11.4"
  }
 },
 "nbformat": 4,
 "nbformat_minor": 5
}
