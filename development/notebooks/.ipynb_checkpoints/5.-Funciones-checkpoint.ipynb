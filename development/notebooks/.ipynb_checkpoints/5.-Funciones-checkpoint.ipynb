{
 "cells": [
  {
   "cell_type": "markdown",
   "id": "a9ffe2e2-b234-4d10-85b9-fab19c215e13",
   "metadata": {},
   "source": [
    "# Paso por valor "
   ]
  },
  {
   "cell_type": "markdown",
   "id": "1aaef30a-2c14-47a8-ad2a-a8085727fd47",
   "metadata": {},
   "source": [
    "Cuando pasas una variable a una función en Python, se copia la referencia al objeto en la función. Si el objeto es inmutable (como números, cadenas o tuplas), la función no puede modificar el objeto original, solo puede modificar la referencia local. Esto da la ilusión de un \"paso por valor\", ya que no puedes cambiar el valor original desde dentro de la función."
   ]
  },
  {
   "cell_type": "code",
   "execution_count": 1,
   "id": "362bb35e-f58d-4e55-b937-062056336d34",
   "metadata": {},
   "outputs": [
    {
     "name": "stdout",
     "output_type": "stream",
     "text": [
      "10\n"
     ]
    }
   ],
   "source": [
    "def cambiar_valor(num):\n",
    "    num = 42\n",
    "\n",
    "valor = 10\n",
    "cambiar_valor(valor)\n",
    "print(valor)  # Imprimirá 10, no 42\n"
   ]
  },
  {
   "cell_type": "code",
   "execution_count": 4,
   "id": "cb1ebc25-c72e-46d9-b521-d2b8249ff754",
   "metadata": {},
   "outputs": [
    {
     "name": "stdout",
     "output_type": "stream",
     "text": [
      "10\n",
      "42\n"
     ]
    }
   ],
   "source": [
    "def cambiar_valor(num):\n",
    "    num = 42\n",
    "    return num\n",
    "\n",
    "valor = 10\n",
    "print(valor)\n",
    "valor = cambiar_valor(valor)\n",
    "print(valor)  # Imprimirá 10, no 42"
   ]
  },
  {
   "cell_type": "markdown",
   "id": "f797e4dd-0593-4db2-88ad-ceda891542d2",
   "metadata": {},
   "source": [
    "# Paso por referencia"
   ]
  },
  {
   "cell_type": "code",
   "execution_count": 3,
   "id": "2ef8ca0e-ba3e-4f6c-870c-ed1884d7d4a8",
   "metadata": {},
   "outputs": [
    {
     "name": "stdout",
     "output_type": "stream",
     "text": [
      "[1, 2, 3, 42]\n"
     ]
    }
   ],
   "source": [
    "def modificar_lista(lista):\n",
    "    lista.append(42)\n",
    "\n",
    "mi_lista = [1, 2, 3]\n",
    "modificar_lista(mi_lista)\n",
    "print(mi_lista)  # Imprimirá [1, 2, 3, 42]\n"
   ]
  },
  {
   "cell_type": "markdown",
   "id": "03aeaa15-3b60-4ac6-9cfc-fba9ec4bde26",
   "metadata": {},
   "source": [
    "# Orden en los parametros"
   ]
  },
  {
   "cell_type": "markdown",
   "id": "620c1d4c-9c79-4e9d-a2b7-686a0e5d525c",
   "metadata": {},
   "source": [
    "En Python, los parámetros de una función pueden ser pasados en diferentes órdenes según cómo se defina la función. Hay tres tipos principales de parámetros en Python: \n",
    "- Posicionales,\n",
    "- Por palabra clave (keyword) \n",
    "- Parámetros por defecto. "
   ]
  },
  {
   "cell_type": "markdown",
   "id": "a45644c0-0bb2-4c30-b6de-360e084023eb",
   "metadata": {},
   "source": [
    "### Parámetros Posicionales:\n",
    "Estos son los parámetros más comunes en las funciones. Se pasan en el mismo orden en el que se define función."
   ]
  },
  {
   "cell_type": "code",
   "execution_count": null,
   "id": "b0e0cfae-c09f-4532-9a0a-0d072759ddd9",
   "metadata": {},
   "outputs": [],
   "source": [
    "def funcion(pos1, pos2):\n",
    "    pass\n",
    "\n",
    "funcion(valor1, valor2)"
   ]
  },
  {
   "cell_type": "markdown",
   "id": "6bde3226-e751-4962-acd4-41f1de3d5d97",
   "metadata": {},
   "source": [
    "### Parámetros por Palabra Clave:\n",
    "Puedes pasar los parámetros en cualquier orden especificando el nombre del parámetro al llamar la función. Esto es útil cuando tienes una función con muchos parámetros y quieres evitar confusión."
   ]
  },
  {
   "cell_type": "code",
   "execution_count": null,
   "id": "9145f630-95b8-4e63-8799-a28afeb6241b",
   "metadata": {},
   "outputs": [],
   "source": [
    "def funcion(param1, param2):\n",
    "    # Código\n",
    "\n",
    "funcion(param2=valor2, param1=valor1)"
   ]
  },
  {
   "cell_type": "markdown",
   "id": "dbab7d9f-a80b-43da-a712-cef2ba3dae22",
   "metadata": {},
   "source": [
    "### Parámetros por Defecto:\n",
    "Puedes asignar valores por defecto a los parámetros en la definición de la función. Estos valores serán utilizados si no se proporcionan valores al llamar la función."
   ]
  },
  {
   "cell_type": "code",
   "execution_count": null,
   "id": "61c71e37-1097-4cfc-84d7-5172a7b2b23d",
   "metadata": {},
   "outputs": [],
   "source": [
    "def funcion(param1, param2=\"valor_por_defecto\"):\n",
    "    # Código\n",
    "\n",
    "funcion(valor1)  # param2 tomará el valor \"valor_por_defecto\"\n"
   ]
  },
  {
   "cell_type": "markdown",
   "id": "be779c74-5d28-4a4e-8db6-116622c82e5a",
   "metadata": {},
   "source": [
    "# Uso de *arg"
   ]
  },
  {
   "cell_type": "markdown",
   "id": "8d2cb542-e132-40e1-af65-f4fb106890be",
   "metadata": {},
   "source": [
    "Gracias a los *args en Python, podemos definir funciones cuyo número de argumentos es variable. Es decir, podemos definir funciones genéricas que no aceptan un número determinado de parámetros, sino que se “adaptan” al número de argumentos con los que son llamados.\n",
    "\n",
    "De hecho, el args viene de arguments en Inglés, o argumentos. Haciendo uso de *args en la declaración de la función podemos hacer que el número de parámetros que acepte sea variable."
   ]
  },
  {
   "cell_type": "markdown",
   "id": "2df815d2-7311-4aac-8e1e-a31a0c5cdc61",
   "metadata": {},
   "source": [
    "# Uso de **kwargs"
   ]
  },
  {
   "cell_type": "code",
   "execution_count": null,
   "id": "f73a186f-efa6-4d8e-a89f-b80b2f4ebf93",
   "metadata": {},
   "outputs": [],
   "source": []
  }
 ],
 "metadata": {
  "kernelspec": {
   "display_name": "Python 3 (ipykernel)",
   "language": "python",
   "name": "python3"
  },
  "language_info": {
   "codemirror_mode": {
    "name": "ipython",
    "version": 3
   },
   "file_extension": ".py",
   "mimetype": "text/x-python",
   "name": "python",
   "nbconvert_exporter": "python",
   "pygments_lexer": "ipython3",
   "version": "3.11.4"
  }
 },
 "nbformat": 4,
 "nbformat_minor": 5
}
