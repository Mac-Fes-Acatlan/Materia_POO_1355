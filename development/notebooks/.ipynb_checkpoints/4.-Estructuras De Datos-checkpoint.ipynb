{
 "cells": [
  {
   "cell_type": "markdown",
   "id": "bd22179d-3ad3-4c89-895b-c81225aea80c",
   "metadata": {},
   "source": [
    "# Listas"
   ]
  },
  {
   "cell_type": "markdown",
   "id": "e37952d4-4dd1-40dc-8b0e-21ad992cfe91",
   "metadata": {},
   "source": [
    "# Diccionarios"
   ]
  },
  {
   "cell_type": "markdown",
   "id": "33bbf49f-deb7-47a4-9618-f0e9a4faef47",
   "metadata": {},
   "source": [
    "# Tuplas"
   ]
  },
  {
   "cell_type": "markdown",
   "id": "1facc595-2505-4ffe-9012-026b4342c683",
   "metadata": {},
   "source": [
    "# Conjutos"
   ]
  },
  {
   "cell_type": "markdown",
   "id": "b6decd27-8277-4032-8858-abf3b66fb159",
   "metadata": {},
   "source": [
    "# Arrays"
   ]
  },
  {
   "cell_type": "code",
   "execution_count": null,
   "id": "69831ba1-3c3d-47db-8887-82da2f287919",
   "metadata": {},
   "outputs": [],
   "source": []
  }
 ],
 "metadata": {
  "kernelspec": {
   "display_name": "Python 3 (ipykernel)",
   "language": "python",
   "name": "python3"
  },
  "language_info": {
   "codemirror_mode": {
    "name": "ipython",
    "version": 3
   },
   "file_extension": ".py",
   "mimetype": "text/x-python",
   "name": "python",
   "nbconvert_exporter": "python",
   "pygments_lexer": "ipython3",
   "version": "3.11.4"
  }
 },
 "nbformat": 4,
 "nbformat_minor": 5
}
