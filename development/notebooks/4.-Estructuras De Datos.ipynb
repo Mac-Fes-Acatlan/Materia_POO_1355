{
 "cells": [
  {
   "cell_type": "markdown",
   "id": "bd22179d-3ad3-4c89-895b-c81225aea80c",
   "metadata": {},
   "source": [
    "# Listas"
   ]
  },
  {
   "cell_type": "code",
   "execution_count": 6,
   "id": "e96d3597-292e-40a3-a99d-400ca0c186d8",
   "metadata": {},
   "outputs": [],
   "source": [
    "lista_de_datos = [\"alumno\",1,2,3,4,5,\"hola\"]"
   ]
  },
  {
   "cell_type": "code",
   "execution_count": 9,
   "id": "cd3a5f78-2af2-47e8-a614-8d2465b3e77c",
   "metadata": {},
   "outputs": [
    {
     "name": "stdout",
     "output_type": "stream",
     "text": [
      "alumno\n",
      "1\n",
      "2\n",
      "3\n",
      "4\n",
      "5\n",
      "hola\n"
     ]
    }
   ],
   "source": [
    "for item in range(0,len(lista_de_datos)):\n",
    "    print(lista_de_datos[item])"
   ]
  },
  {
   "cell_type": "code",
   "execution_count": 7,
   "id": "a2f6da87-67bf-4083-b1d8-b4dbc925eb2c",
   "metadata": {},
   "outputs": [
    {
     "name": "stdout",
     "output_type": "stream",
     "text": [
      "alumno\n",
      "1\n",
      "2\n",
      "3\n",
      "4\n",
      "5\n",
      "hola\n"
     ]
    }
   ],
   "source": [
    "for item in lista_de_datos:\n",
    "    print(item)"
   ]
  },
  {
   "cell_type": "code",
   "execution_count": 15,
   "id": "fca9bf0f-fd2d-4e97-9724-c7dd025499a3",
   "metadata": {},
   "outputs": [],
   "source": [
    "lista_de_datos[0] = \"salon\""
   ]
  },
  {
   "cell_type": "code",
   "execution_count": 16,
   "id": "fb367b00-be78-41cb-9cb2-05dce39f81e6",
   "metadata": {},
   "outputs": [
    {
     "data": {
      "text/plain": [
       "['salon', 1, 2, 3, 4, 5, 'hola']"
      ]
     },
     "execution_count": 16,
     "metadata": {},
     "output_type": "execute_result"
    }
   ],
   "source": [
    "lista_de_datos"
   ]
  },
  {
   "cell_type": "markdown",
   "id": "e37952d4-4dd1-40dc-8b0e-21ad992cfe91",
   "metadata": {},
   "source": [
    "# Diccionarios"
   ]
  },
  {
   "cell_type": "code",
   "execution_count": 10,
   "id": "d8fb63ea-4ed5-4e35-b5c5-55d56f3914c2",
   "metadata": {},
   "outputs": [],
   "source": [
    "dicto_valores = {\n",
    "                \"llave1\":1,\n",
    "                \"llave2\":2,\n",
    "                 \"llave3\":3\n",
    "                }"
   ]
  },
  {
   "cell_type": "code",
   "execution_count": 11,
   "id": "57193de5-19cd-4127-9963-967793df3f5a",
   "metadata": {},
   "outputs": [
    {
     "data": {
      "text/plain": [
       "1"
      ]
     },
     "execution_count": 11,
     "metadata": {},
     "output_type": "execute_result"
    }
   ],
   "source": [
    "dicto_valores[\"llave1\"]"
   ]
  },
  {
   "cell_type": "code",
   "execution_count": 14,
   "id": "7d17871a-4d4d-47a8-8a0c-8a5b49a73c20",
   "metadata": {},
   "outputs": [
    {
     "name": "stdout",
     "output_type": "stream",
     "text": [
      "llave1 -- 1\n",
      "llave2 -- 2\n",
      "llave3 -- 3\n"
     ]
    }
   ],
   "source": [
    "for index,valor in dicto_valores.items():\n",
    "    print(index,\"--\",valor)"
   ]
  },
  {
   "cell_type": "code",
   "execution_count": 12,
   "id": "fbb7a471-85be-45ca-bb96-b436ab8eddef",
   "metadata": {},
   "outputs": [
    {
     "data": {
      "text/plain": [
       "dict_items([('llave1', 1), ('llave2', 2), ('llave3', 3)])"
      ]
     },
     "execution_count": 12,
     "metadata": {},
     "output_type": "execute_result"
    }
   ],
   "source": [
    "dicto_valores.items()"
   ]
  },
  {
   "cell_type": "markdown",
   "id": "33bbf49f-deb7-47a4-9618-f0e9a4faef47",
   "metadata": {},
   "source": [
    "# Tuplas"
   ]
  },
  {
   "cell_type": "code",
   "execution_count": 17,
   "id": "2ef2b802-0bed-4fbe-87e9-fa84fb090d14",
   "metadata": {},
   "outputs": [],
   "source": [
    "tupla_valor = (1,2,3,5)"
   ]
  },
  {
   "cell_type": "code",
   "execution_count": 24,
   "id": "2a9d185d-d867-4b9b-aa99-cedfb66289f1",
   "metadata": {},
   "outputs": [
    {
     "ename": "TypeError",
     "evalue": "'tuple' object does not support item assignment",
     "output_type": "error",
     "traceback": [
      "\u001b[0;31m---------------------------------------------------------------------------\u001b[0m",
      "\u001b[0;31mTypeError\u001b[0m                                 Traceback (most recent call last)",
      "Cell \u001b[0;32mIn[24], line 1\u001b[0m\n\u001b[0;32m----> 1\u001b[0m \u001b[43mtupla_valor\u001b[49m\u001b[43m[\u001b[49m\u001b[38;5;241;43m0\u001b[39;49m\u001b[43m]\u001b[49m\u001b[38;5;241m=\u001b[39m\u001b[38;5;241m15\u001b[39m\n",
      "\u001b[0;31mTypeError\u001b[0m: 'tuple' object does not support item assignment"
     ]
    }
   ],
   "source": [
    "tupla_valor[0]=15"
   ]
  },
  {
   "cell_type": "markdown",
   "id": "1facc595-2505-4ffe-9012-026b4342c683",
   "metadata": {},
   "source": [
    "# Conjutos"
   ]
  },
  {
   "cell_type": "code",
   "execution_count": 29,
   "id": "5960aa52-8815-4ac4-828b-9aec5d7d4ed2",
   "metadata": {},
   "outputs": [],
   "source": [
    "conjunto_a = {1,2,3,4}\n",
    "conjunto_b = {1,4,5,6,7,8,}"
   ]
  },
  {
   "cell_type": "code",
   "execution_count": 30,
   "id": "5d0241a0-95c8-463b-8be0-67aa431d9b89",
   "metadata": {},
   "outputs": [
    {
     "data": {
      "text/plain": [
       "{1, 2, 3, 4, 5, 6, 7, 8}"
      ]
     },
     "execution_count": 30,
     "metadata": {},
     "output_type": "execute_result"
    }
   ],
   "source": [
    "conjunto_a.union(conjunto_b)"
   ]
  },
  {
   "cell_type": "code",
   "execution_count": 31,
   "id": "27006878-66bd-4be9-8b3b-dc5d40873c81",
   "metadata": {},
   "outputs": [
    {
     "data": {
      "text/plain": [
       "{1, 4}"
      ]
     },
     "execution_count": 31,
     "metadata": {},
     "output_type": "execute_result"
    }
   ],
   "source": [
    "conjunto_a.intersection(conjunto_b)"
   ]
  },
  {
   "cell_type": "code",
   "execution_count": 32,
   "id": "8f7f0f59-285a-4495-98d0-fdd2fd565fb5",
   "metadata": {},
   "outputs": [
    {
     "data": {
      "text/plain": [
       "{2, 3}"
      ]
     },
     "execution_count": 32,
     "metadata": {},
     "output_type": "execute_result"
    }
   ],
   "source": [
    "conjunto_a.difference(conjunto_b)"
   ]
  },
  {
   "cell_type": "code",
   "execution_count": 33,
   "id": "66ceed42-2466-4b31-be7c-c2dd86e97e42",
   "metadata": {},
   "outputs": [
    {
     "data": {
      "text/plain": [
       "{2, 3, 5, 6, 7, 8}"
      ]
     },
     "execution_count": 33,
     "metadata": {},
     "output_type": "execute_result"
    }
   ],
   "source": [
    "conjunto_a.symmetric_difference(conjunto_b)"
   ]
  },
  {
   "cell_type": "code",
   "execution_count": null,
   "id": "9d08be85-60bf-41df-af12-13031ec013c2",
   "metadata": {},
   "outputs": [],
   "source": []
  },
  {
   "cell_type": "markdown",
   "id": "b6decd27-8277-4032-8858-abf3b66fb159",
   "metadata": {},
   "source": [
    "# Arrays"
   ]
  },
  {
   "cell_type": "code",
   "execution_count": 40,
   "id": "69831ba1-3c3d-47db-8887-82da2f287919",
   "metadata": {},
   "outputs": [],
   "source": [
    "lst_ejemplo = []"
   ]
  },
  {
   "cell_type": "code",
   "execution_count": 41,
   "id": "d783bc27-e221-4312-b3e5-baea495db576",
   "metadata": {},
   "outputs": [],
   "source": [
    "lst_ejemplo.append(1)"
   ]
  },
  {
   "cell_type": "code",
   "execution_count": 42,
   "id": "c249b0b5-0c93-438f-a34f-ce10b90ee647",
   "metadata": {},
   "outputs": [],
   "source": [
    "lst_ejemplo.append(3)"
   ]
  },
  {
   "cell_type": "code",
   "execution_count": 43,
   "id": "63c4c9d1-98bd-4075-bcc3-ed1a7591d4ac",
   "metadata": {},
   "outputs": [
    {
     "data": {
      "text/plain": [
       "[1, 3]"
      ]
     },
     "execution_count": 43,
     "metadata": {},
     "output_type": "execute_result"
    }
   ],
   "source": [
    "lst_ejemplo"
   ]
  },
  {
   "cell_type": "code",
   "execution_count": 47,
   "id": "5e354b02-7e30-40e3-8d08-722c5dbc6def",
   "metadata": {},
   "outputs": [],
   "source": [
    "lista_ejey=[]\n",
    "lista_ejex = [1,2,3]"
   ]
  },
  {
   "cell_type": "code",
   "execution_count": 48,
   "id": "05d04e4d-d30e-4fe2-9d58-2b2521ff4439",
   "metadata": {},
   "outputs": [],
   "source": [
    "for i in range(0,3):\n",
    "    lista_ejey.append(lista_ejex)"
   ]
  },
  {
   "cell_type": "code",
   "execution_count": 49,
   "id": "0b4451c0-fdcc-4733-8fe0-a907582322e4",
   "metadata": {},
   "outputs": [
    {
     "data": {
      "text/plain": [
       "[[1, 2, 3], [1, 2, 3], [1, 2, 3]]"
      ]
     },
     "execution_count": 49,
     "metadata": {},
     "output_type": "execute_result"
    }
   ],
   "source": [
    "lista_ejey"
   ]
  },
  {
   "cell_type": "code",
   "execution_count": 52,
   "id": "d6803cbc-f0a5-40e5-87a4-0765f58eecb9",
   "metadata": {},
   "outputs": [
    {
     "data": {
      "text/plain": [
       "3"
      ]
     },
     "execution_count": 52,
     "metadata": {},
     "output_type": "execute_result"
    }
   ],
   "source": [
    "lista_ejey[0][2]"
   ]
  },
  {
   "cell_type": "code",
   "execution_count": 55,
   "id": "c9160cea-6b1a-4a47-b40f-61f85d1829b0",
   "metadata": {},
   "outputs": [
    {
     "name": "stdout",
     "output_type": "stream",
     "text": [
      "1 2 3 \n",
      "\n",
      "1 2 3 \n",
      "\n",
      "1 2 3 \n",
      "\n"
     ]
    }
   ],
   "source": [
    "for i in range(0,3):\n",
    "    for j in range(0,3):\n",
    "        print(lista_ejey[i][j],end=\" \")\n",
    "    print(\"\\n\")"
   ]
  },
  {
   "cell_type": "code",
   "execution_count": 56,
   "id": "d9cbd5d9-0b8a-418b-a314-f68e16ae0bac",
   "metadata": {},
   "outputs": [],
   "source": [
    "def suma_datos(a:int,b:int):\n",
    "    return a+b\n",
    "    "
   ]
  },
  {
   "cell_type": "code",
   "execution_count": 57,
   "id": "be54d133-a1f8-4e8f-bbf8-6c7f73c21ec6",
   "metadata": {},
   "outputs": [
    {
     "data": {
      "text/plain": [
       "7"
      ]
     },
     "execution_count": 57,
     "metadata": {},
     "output_type": "execute_result"
    }
   ],
   "source": [
    "suma_datos(3,4)"
   ]
  },
  {
   "cell_type": "code",
   "execution_count": null,
   "id": "fb2b7eb4-d16b-4318-94f5-ea76005dbee6",
   "metadata": {},
   "outputs": [],
   "source": [
    "Ñ"
   ]
  }
 ],
 "metadata": {
  "kernelspec": {
   "display_name": "Python 3 (ipykernel)",
   "language": "python",
   "name": "python3"
  },
  "language_info": {
   "codemirror_mode": {
    "name": "ipython",
    "version": 3
   },
   "file_extension": ".py",
   "mimetype": "text/x-python",
   "name": "python",
   "nbconvert_exporter": "python",
   "pygments_lexer": "ipython3",
   "version": "3.11.4"
  }
 },
 "nbformat": 4,
 "nbformat_minor": 5
}
