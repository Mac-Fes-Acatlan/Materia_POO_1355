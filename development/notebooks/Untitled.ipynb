{
 "cells": [
  {
   "cell_type": "code",
   "execution_count": 2,
   "id": "7bf10318-4897-42ca-9b48-d169d89e56d0",
   "metadata": {},
   "outputs": [],
   "source": [
    "class CuentaAtras:\n",
    "\n",
    "    def __init__(self,count):\n",
    "        self.count = count\n",
    "\n",
    "    def __iter__(self):\n",
    "        return self\n",
    "\n",
    "    def __next__(self):\n",
    "\n",
    "        if self.count<=0:\n",
    "            raise StopIteration\n",
    "\n",
    "        self.count -=1\n",
    "\n",
    "        return self.count"
   ]
  },
  {
   "cell_type": "code",
   "execution_count": 3,
   "id": "4492f4bc-b566-4026-b9ad-8c2a3cf4c846",
   "metadata": {},
   "outputs": [
    {
     "name": "stdout",
     "output_type": "stream",
     "text": [
      "4\n",
      "3\n",
      "2\n",
      "1\n",
      "0\n"
     ]
    }
   ],
   "source": [
    "for i in CuentaAtras(5):\n",
    "    print(i)"
   ]
  },
  {
   "cell_type": "code",
   "execution_count": 4,
   "id": "180b30fa-c848-44ca-8687-855d5a480594",
   "metadata": {},
   "outputs": [
    {
     "name": "stdout",
     "output_type": "stream",
     "text": [
      "10\n",
      "10\n",
      "20\n",
      "20\n"
     ]
    }
   ],
   "source": [
    "class MiClase:\n",
    "    def __init__(self, valor):\n",
    "        self.valor = valor\n",
    "\n",
    "# Asignación de objetos\n",
    "objeto1 = MiClase(10)\n",
    "objeto2 = objeto1\n",
    "\n",
    "# Ambas variables apuntan al mismo objeto\n",
    "print(objeto1.valor)  # Output: 10\n",
    "print(objeto2.valor)  # Output: 10\n",
    "\n",
    "# Modificamos el valor a través de una variable\n",
    "objeto1.valor = 20\n",
    "\n",
    "# Ambas variables reflejan el cambio\n",
    "print(objeto1.valor)  # Output: 20\n",
    "print(objeto2.valor)  # Output: 20\n"
   ]
  },
  {
   "cell_type": "code",
   "execution_count": 5,
   "id": "834b8163-c52a-4857-be8c-42d7e9a883c8",
   "metadata": {},
   "outputs": [
    {
     "name": "stdout",
     "output_type": "stream",
     "text": [
      "20\n",
      "10\n"
     ]
    }
   ],
   "source": [
    "class MiClase:\n",
    "    def __init__(self, valor):\n",
    "        self.valor = valor\n",
    "\n",
    "    def copy(self):\n",
    "        return MiClase(self.valor)\n",
    "\n",
    "# Copia de objetos\n",
    "objeto1 = MiClase(10)\n",
    "objeto2 = objeto1.copy()\n",
    "\n",
    "# objeto2 es una copia independiente de objeto1\n",
    "objeto1.valor = 20\n",
    "\n",
    "print(objeto1.valor)  # Output: 20\n",
    "print(objeto2.valor)  # Output: 10\n"
   ]
  },
  {
   "cell_type": "code",
   "execution_count": null,
   "id": "24c2a5f2-5397-48d7-a6ac-26f9d310ef4e",
   "metadata": {},
   "outputs": [],
   "source": []
  }
 ],
 "metadata": {
  "kernelspec": {
   "display_name": "Python 3 (ipykernel)",
   "language": "python",
   "name": "python3"
  },
  "language_info": {
   "codemirror_mode": {
    "name": "ipython",
    "version": 3
   },
   "file_extension": ".py",
   "mimetype": "text/x-python",
   "name": "python",
   "nbconvert_exporter": "python",
   "pygments_lexer": "ipython3",
   "version": "3.11.4"
  }
 },
 "nbformat": 4,
 "nbformat_minor": 5
}
