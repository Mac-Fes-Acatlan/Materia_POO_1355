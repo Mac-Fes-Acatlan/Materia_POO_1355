{
 "cells": [
  {
   "cell_type": "code",
   "execution_count": 22,
   "id": "c9133973-ea9d-46b2-94ea-03da2470793d",
   "metadata": {},
   "outputs": [],
   "source": [
    "class Ejemplo:\n",
    "\n",
    "    def __init__(self,peso,altura) -> None:\n",
    "\n",
    "        self.peso = peso \n",
    "        self.altura = altura\n",
    "    \n",
    "    def dame_resultados(self) -> str:\n",
    "        #print(str(self.peso)+\"-\"+str(self.altura))\n",
    "        return str(self.peso)+\"-\"+str(self.altura)"
   ]
  },
  {
   "cell_type": "code",
   "execution_count": 26,
   "id": "7e586692-be9b-44c9-9d4e-b7a0c3b34fac",
   "metadata": {},
   "outputs": [],
   "source": [
    "obj_ejemplo = Ejemplo(100,1.90)"
   ]
  },
  {
   "cell_type": "code",
   "execution_count": 27,
   "id": "7d4aa0b0-8305-4b74-bd35-c3421c8ec0bf",
   "metadata": {},
   "outputs": [
    {
     "data": {
      "text/plain": [
       "{'peso': 100, 'altura': 1.9}"
      ]
     },
     "execution_count": 27,
     "metadata": {},
     "output_type": "execute_result"
    }
   ],
   "source": [
    "obj_ejemplo.__dict__"
   ]
  },
  {
   "cell_type": "code",
   "execution_count": 20,
   "id": "8ac87b07-1eaf-407c-8cb3-0cb7bd160e87",
   "metadata": {},
   "outputs": [],
   "source": [
    "resultado_cadena=obj_ejemplo.dame_resultados()"
   ]
  },
  {
   "cell_type": "code",
   "execution_count": 21,
   "id": "b00ba058-655f-4124-84bc-6e9b7e84118d",
   "metadata": {},
   "outputs": [
    {
     "name": "stdout",
     "output_type": "stream",
     "text": [
      "100-1.9\n"
     ]
    }
   ],
   "source": [
    "print(resultado_cadena)"
   ]
  },
  {
   "cell_type": "code",
   "execution_count": null,
   "id": "fa8b3a7b-e0aa-4c75-b3ad-a7f3db5d27a2",
   "metadata": {},
   "outputs": [],
   "source": []
  }
 ],
 "metadata": {
  "kernelspec": {
   "display_name": "Python 3 (ipykernel)",
   "language": "python",
   "name": "python3"
  },
  "language_info": {
   "codemirror_mode": {
    "name": "ipython",
    "version": 3
   },
   "file_extension": ".py",
   "mimetype": "text/x-python",
   "name": "python",
   "nbconvert_exporter": "python",
   "pygments_lexer": "ipython3",
   "version": "3.11.4"
  }
 },
 "nbformat": 4,
 "nbformat_minor": 5
}
