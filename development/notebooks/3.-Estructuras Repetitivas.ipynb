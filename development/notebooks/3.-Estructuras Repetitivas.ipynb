{
 "cells": [
  {
   "cell_type": "markdown",
   "id": "3ea591ee-0a5f-43f4-ab04-aa0588bf66cb",
   "metadata": {},
   "source": [
    "# Bucle for"
   ]
  },
  {
   "cell_type": "markdown",
   "id": "18e84f29-04ce-4620-8f0a-6c6f3f0b20cc",
   "metadata": {},
   "source": [
    "\n",
    "El for es un tipo de bucle, parecido al while pero con ciertas diferencias. La principal es que el número de iteraciones de un for esta definido de antemano, mientras que en un while no. La diferencia principal con respecto al while es en la condición. Mientras que en el while la condición era evaluada en cada iteración para decidir si volver a ejecutar o no el código, en el for no existe tal condición, sino un iterable que define las veces que se ejecutará el código. En el siguiente ejemplo vemos un bucle for que se ejecuta 5 veces, y donde la i incrementa su valor “automáticamente” en 1 en cada iteración."
   ]
  },
  {
   "cell_type": "code",
   "execution_count": 1,
   "id": "918c8119-757f-49df-b4f5-e9673963601b",
   "metadata": {},
   "outputs": [
    {
     "name": "stdout",
     "output_type": "stream",
     "text": [
      "0\n",
      "1\n",
      "2\n",
      "3\n",
      "4\n"
     ]
    }
   ],
   "source": [
    "for i in range(0, 5):\n",
    "    print(i)\n",
    "\n",
    "# Salida:\n",
    "# 0\n",
    "# 1\n",
    "# 2\n",
    "# 3\n",
    "# 4"
   ]
  },
  {
   "cell_type": "markdown",
   "id": "7a2f61e5-9281-47a9-888e-de2868b573e3",
   "metadata": {},
   "source": [
    "### iterables e iteradores"
   ]
  },
  {
   "cell_type": "markdown",
   "id": "ade4486f-7597-4954-82b8-ede180e8d609",
   "metadata": {},
   "source": [
    "Para entender al cien por cien los bucles for, y como Python fue diseñado como lenguaje de programación, es muy importante entender los conceptos de iterables e iteradores. Empecemos con un par de definiciones:\n",
    "\n",
    "- Los iterables son aquellos objetos que como su nombre indica pueden ser iterados, lo que dicho de otra forma es, que puedan ser indexados. Si piensas en un array (o una list en Python), podemos indexarlo con lista[1] por ejemplo, por lo que sería un iterable.\n",
    "- Los iteradores son objetos que hacen referencia a un elemento, y que tienen un método next que permite hacer referencia al siguiente."
   ]
  },
  {
   "cell_type": "markdown",
   "id": "4b3320e3-5fe8-4d21-a1af-872b99672732",
   "metadata": {},
   "source": [
    "### Uso del range"
   ]
  },
  {
   "cell_type": "markdown",
   "id": "5a458b2a-61ee-4257-8d74-99baf78bf2b9",
   "metadata": {},
   "source": [
    "El range() genera una secuencia de números que van desde 0 por defecto hasta el número que se pasa como parámetro menos 1. En realidad, se pueden pasar hasta tres parámetros separados por coma, donde el primer es el inicio de la secuencia, el segundo el final y el tercero el salto que se desea entre números. Por defecto se empieza en 0 y el salto es de 1."
   ]
  },
  {
   "cell_type": "code",
   "execution_count": 5,
   "id": "bb41e6bf-bdb7-4e74-91c6-6451bc951ce4",
   "metadata": {},
   "outputs": [],
   "source": [
    "#range(inicio, fin, salto)"
   ]
  },
  {
   "cell_type": "code",
   "execution_count": 6,
   "id": "b2aea6a6-d72d-4b86-8723-b821fdc96278",
   "metadata": {},
   "outputs": [
    {
     "name": "stdout",
     "output_type": "stream",
     "text": [
      "[5, 7, 9, 11, 13, 15, 17, 19]\n"
     ]
    }
   ],
   "source": [
    "print(list(range(5, 20, 2)))"
   ]
  },
  {
   "cell_type": "code",
   "execution_count": 8,
   "id": "28023d1c-3c82-42cf-a9ad-2f637ee10bc4",
   "metadata": {},
   "outputs": [
    {
     "name": "stdout",
     "output_type": "stream",
     "text": [
      "5 7 9 11 13 15 17 19 "
     ]
    }
   ],
   "source": [
    "for i in range(5, 20, 2):\n",
    "    print(i,end=\" \") #5,7,9,11,13,15,17,19"
   ]
  },
  {
   "cell_type": "code",
   "execution_count": 9,
   "id": "16a30f55-2ff9-4b04-bce4-0c78b5814b39",
   "metadata": {},
   "outputs": [
    {
     "name": "stdout",
     "output_type": "stream",
     "text": [
      "5\n",
      "4\n",
      "3\n",
      "2\n",
      "1\n"
     ]
    }
   ],
   "source": [
    "for i in range (5, 0, -1):\n",
    "    print(i) #5,4,3,2,1"
   ]
  },
  {
   "cell_type": "markdown",
   "id": "75cd387e-7743-42a0-b708-34ab72d708cd",
   "metadata": {},
   "source": [
    "# Ejercicios para practicar"
   ]
  },
  {
   "cell_type": "markdown",
   "id": "fefe05f7-e9e1-4cde-a8e8-37fb21debd55",
   "metadata": {},
   "source": [
    "- Escribe un programa que calcule la suma de los primeros n números naturales, donde n es proporcionado por el usuario.\n",
    "- Desarrolla un programa que tome un número como entrada y genere la tabla de multiplicar correspondiente hasta un cierto valor máximo.\n",
    "- Crea un programa que calcule el factorial de un número dado utilizando un bucle for "
   ]
  },
  {
   "cell_type": "markdown",
   "id": "53b74a35-9115-42f8-959f-c943613992f0",
   "metadata": {},
   "source": [
    "- Desarrolla un programa que imprima un patrón numérico en for"
   ]
  },
  {
   "cell_type": "code",
   "execution_count": 15,
   "id": "87ed10e4-5887-4cc0-a998-33569efcb9bf",
   "metadata": {},
   "outputs": [],
   "source": [
    "#      *     \n",
    "#     ***    \n",
    "#    *****   \n",
    "#   *******  \n",
    "#  *********\n",
    "# ***********"
   ]
  },
  {
   "cell_type": "code",
   "execution_count": null,
   "id": "90c873b1-81d7-4175-bcf0-37a88546fd6b",
   "metadata": {},
   "outputs": [],
   "source": []
  },
  {
   "cell_type": "markdown",
   "id": "6df216d1-08f4-42b2-ac96-11cd8c4cdc54",
   "metadata": {},
   "source": [
    "# Bucle while"
   ]
  },
  {
   "cell_type": "code",
   "execution_count": 10,
   "id": "9f824154-d195-4fec-90a6-b43feb5fa5ff",
   "metadata": {},
   "outputs": [
    {
     "name": "stdout",
     "output_type": "stream",
     "text": [
      "4\n",
      "3\n",
      "2\n",
      "1\n",
      "0\n"
     ]
    }
   ],
   "source": [
    "x = 5\n",
    "while x > 0:\n",
    "    x -=1\n",
    "    print(x)\n",
    "\n",
    "# Salida: 4,3,2,1,0"
   ]
  },
  {
   "cell_type": "markdown",
   "id": "3d2cb62d-ade6-4f44-8313-eef5afebd29b",
   "metadata": {},
   "source": [
    "### Else y while"
   ]
  },
  {
   "cell_type": "markdown",
   "id": "eca3c934-0510-408b-9879-2e9bbd545e5c",
   "metadata": {},
   "source": [
    "Algo no muy corriente en otros lenguajes de programación pero si en Python, es el uso de la cláusula else al final del while. Podemos ver el ejemplo anterior mezclado con el else. La sección de código que se encuentra dentro del else, se ejecutará cuando el bucle termine, pero solo si lo hace “por razones naturales”. Es decir, si el bucle termina porque la condición se deja de cumplir, y no porque se ha hecho uso del break."
   ]
  },
  {
   "cell_type": "code",
   "execution_count": 12,
   "id": "cb1605de-a3a1-4900-be57-d1c309e0d18b",
   "metadata": {},
   "outputs": [
    {
     "name": "stdout",
     "output_type": "stream",
     "text": [
      "4\n",
      "3\n",
      "2\n",
      "1\n",
      "0\n",
      "El bucle ha finalizado\n"
     ]
    }
   ],
   "source": [
    "x = 5\n",
    "while x > 0:\n",
    "    x -=1\n",
    "    print(x) #4,3,2,1,0\n",
    "else:\n",
    "    print(\"El bucle ha finalizado\")"
   ]
  },
  {
   "cell_type": "markdown",
   "id": "bbed51ec-05ae-4781-8dfd-c50f80084a85",
   "metadata": {},
   "source": [
    "# Ejercicios para practicar"
   ]
  },
  {
   "cell_type": "markdown",
   "id": "69595521-db11-401c-a973-6debb1f19339",
   "metadata": {},
   "source": [
    "- Crea un programa que tome un número como entrada y determine si es un cuadrado perfecto (el resultado de un número entero multiplicado por sí mismo)."
   ]
  },
  {
   "cell_type": "markdown",
   "id": "088a277c-3b0c-4947-a7ad-80e8f74a62e3",
   "metadata": {},
   "source": [
    "Todo cuadrado perfecto cumple la propiedad de que es la suma de los números impares que empiezan por uno. Por ejemplo,"
   ]
  },
  {
   "cell_type": "markdown",
   "id": "d660a53b-0d8b-42ff-9199-3980a3ecb07b",
   "metadata": {},
   "source": [
    "1 = 1\n",
    "4 = 1 + 3\n",
    "9 = 1 + 3 + 5\n",
    "16 = 1 + 3 + 5 + 7\n",
    "25 = 1 + 3 + 5 + 7 + 9\n",
    "…\n",
    "n = 1 + 3 + 5 + … + (2*n-1)"
   ]
  },
  {
   "cell_type": "markdown",
   "id": "967b2e36-0a00-4ed7-9a6f-c89991146974",
   "metadata": {},
   "source": [
    "# Bucle Do while"
   ]
  },
  {
   "cell_type": "code",
   "execution_count": null,
   "id": "dfd77281-deaf-48d0-bf7d-7ceecd843402",
   "metadata": {},
   "outputs": [],
   "source": []
  },
  {
   "cell_type": "code",
   "execution_count": null,
   "id": "08af326b-bbd5-4228-aa6e-af9bb33ed4e7",
   "metadata": {},
   "outputs": [],
   "source": []
  },
  {
   "cell_type": "code",
   "execution_count": null,
   "id": "45c6e6f5-43b8-4369-a5e9-a6e8d4e758ff",
   "metadata": {},
   "outputs": [],
   "source": []
  },
  {
   "cell_type": "code",
   "execution_count": null,
   "id": "17e1cede-57ff-42b8-a093-3a53a4f1159d",
   "metadata": {},
   "outputs": [],
   "source": []
  }
 ],
 "metadata": {
  "kernelspec": {
   "display_name": "Python 3 (ipykernel)",
   "language": "python",
   "name": "python3"
  },
  "language_info": {
   "codemirror_mode": {
    "name": "ipython",
    "version": 3
   },
   "file_extension": ".py",
   "mimetype": "text/x-python",
   "name": "python",
   "nbconvert_exporter": "python",
   "pygments_lexer": "ipython3",
   "version": "3.11.4"
  }
 },
 "nbformat": 4,
 "nbformat_minor": 5
}
