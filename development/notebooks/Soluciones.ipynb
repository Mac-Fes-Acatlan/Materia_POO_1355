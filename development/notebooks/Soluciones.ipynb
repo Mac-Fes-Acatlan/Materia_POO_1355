{
 "cells": [
  {
   "cell_type": "code",
   "execution_count": 2,
   "id": "d534167d-e1ac-4ec6-a202-0dbaff925bb8",
   "metadata": {},
   "outputs": [
    {
     "name": "stdout",
     "output_type": "stream",
     "text": [
      "312291615\n"
     ]
    }
   ],
   "source": [
    "#Imprime por pantalla tu numero de cuenta \n",
    "print(312291615)"
   ]
  },
  {
   "cell_type": "code",
   "execution_count": 3,
   "id": "21fe6a21-9c2d-4b8d-bf0e-0b7eb8567715",
   "metadata": {},
   "outputs": [
    {
     "name": "stdout",
     "output_type": "stream",
     "text": [
      "3-4 = -1\n"
     ]
    }
   ],
   "source": [
    "#Imprime por pantalla la resta de dos numeros\n",
    "a=3\n",
    "b=4\n",
    "print(\"{0}-{1} = {2}\".format(a,b,a-b))"
   ]
  },
  {
   "cell_type": "code",
   "execution_count": 4,
   "id": "f2858624-ef55-4a02-9162-ee54d3d98da1",
   "metadata": {},
   "outputs": [],
   "source": [
    "# Escribe un programa que determine si un número dado es primo o no."
   ]
  },
  {
   "cell_type": "code",
   "execution_count": 3,
   "id": "d05f94d7-0874-4496-ba8b-68c4a826185d",
   "metadata": {},
   "outputs": [
    {
     "name": "stdin",
     "output_type": "stream",
     "text": [
      "ingresa el numero 7\n"
     ]
    },
    {
     "name": "stdout",
     "output_type": "stream",
     "text": [
      "Es primo\n"
     ]
    }
   ],
   "source": [
    "numero_input= input(\"ingresa el numero\")\n",
    "numero_input = int(numero_input)\n",
    "\n",
    "for numero in range(2,numero_input):\n",
    "    if numero_input % numero ==0:\n",
    "        print(\"No es un primo\")\n",
    "        break\n",
    "    else:\n",
    "        if numero+1 == numero_input:\n",
    "            print(\"Es primo\")\n",
    "    "
   ]
  },
  {
   "cell_type": "code",
   "execution_count": 34,
   "id": "a179291b-b7a5-479a-be6d-d8eaca2101b6",
   "metadata": {},
   "outputs": [],
   "source": [
    "import random"
   ]
  },
  {
   "cell_type": "code",
   "execution_count": 49,
   "id": "f44f949e-a98e-4ba9-9352-541a01ae7012",
   "metadata": {},
   "outputs": [
    {
     "name": "stdout",
     "output_type": "stream",
     "text": [
      "8\n",
      "7\n",
      "3\n"
     ]
    }
   ],
   "source": [
    "# Crea un programa que tome tres números como entrada y determine cuál de ellos es el mayor.\n",
    "\n",
    "primero = random.randint(0,10)\n",
    "segundo = random.randint(0,10)\n",
    "tercero = random.randint(0,10)\n",
    "\n",
    "print(primero)\n",
    "print(segundo)\n",
    "print(tercero)"
   ]
  },
  {
   "cell_type": "code",
   "execution_count": 44,
   "id": "a19ed2d3-6e1d-4453-98c8-63d2625807d8",
   "metadata": {},
   "outputs": [
    {
     "data": {
      "text/plain": [
       "False"
      ]
     },
     "execution_count": 44,
     "metadata": {},
     "output_type": "execute_result"
    }
   ],
   "source": [
    "((segundo<primero)and(segundo<primero))"
   ]
  },
  {
   "cell_type": "code",
   "execution_count": 45,
   "id": "d8570685-fd7b-4105-b6e2-9761b4b61ef0",
   "metadata": {},
   "outputs": [
    {
     "data": {
      "text/plain": [
       "True"
      ]
     },
     "execution_count": 45,
     "metadata": {},
     "output_type": "execute_result"
    }
   ],
   "source": [
    "((primero<segundo)and(tercero<segundo)) "
   ]
  },
  {
   "cell_type": "code",
   "execution_count": 47,
   "id": "7b1466be-f71f-4347-835d-c3b6b9abf0e6",
   "metadata": {},
   "outputs": [
    {
     "data": {
      "text/plain": [
       "False"
      ]
     },
     "execution_count": 47,
     "metadata": {},
     "output_type": "execute_result"
    }
   ],
   "source": [
    "((primero<tercero)and(segundo<tercero)) "
   ]
  },
  {
   "cell_type": "code",
   "execution_count": 33,
   "id": "ef365739-077f-4c9c-94ff-458c10da721d",
   "metadata": {},
   "outputs": [],
   "source": [
    "# Escribe un programa que tome las longitudes de tres lados de un triángulo como entrada y determine si es equilátero, isósceles o escaleno."
   ]
  },
  {
   "cell_type": "code",
   "execution_count": 50,
   "id": "d737cec3-c75a-4789-a6dc-b03c7a929d96",
   "metadata": {},
   "outputs": [
    {
     "name": "stdout",
     "output_type": "stream",
     "text": [
      "       *       \n",
      "      ***      \n",
      "     *****     \n",
      "    *******    \n",
      "   *********   \n",
      "  ***********  \n",
      " ************* \n"
     ]
    }
   ],
   "source": [
    "z = 7\n",
    "x = 1\n",
    "while z > 0:\n",
    "    print(' ' * z + '*' * x + ' ' * z)\n",
    "    x+=2\n",
    "    z-=1"
   ]
  },
  {
   "cell_type": "code",
   "execution_count": 55,
   "id": "eacbf9ff-17d1-4079-b38a-16e7ceff605a",
   "metadata": {},
   "outputs": [],
   "source": [
    "def isPerfectSquare(n):\n",
    "    # comienza con el número impar 1\n",
    "    odd = 1\n",
    " \n",
    "    #Bucle hasta que el valor sea 0 o negativo\n",
    "    while n > 0:\n",
    "        n = n - odd        # resta el siguiente número impar de `n`\n",
    "        odd = odd + 2      # toma el siguiente número impar para la siguiente iteración\n",
    " \n",
    "    # solo un cuadrado perfecto alcanzará un valor de 0\n",
    "    return n == 0\n"
   ]
  },
  {
   "cell_type": "code",
   "execution_count": 56,
   "id": "dbfa1612-cdb9-49f7-bcc5-ad3744318d68",
   "metadata": {},
   "outputs": [
    {
     "name": "stdout",
     "output_type": "stream",
     "text": [
      "True\n"
     ]
    }
   ],
   "source": [
    "n = 25\n",
    "print(isPerfectSquare(n))"
   ]
  },
  {
   "cell_type": "code",
   "execution_count": null,
   "id": "d3e69736-727b-4f26-930e-43456670639b",
   "metadata": {},
   "outputs": [],
   "source": []
  }
 ],
 "metadata": {
  "kernelspec": {
   "display_name": "Python 3 (ipykernel)",
   "language": "python",
   "name": "python3"
  },
  "language_info": {
   "codemirror_mode": {
    "name": "ipython",
    "version": 3
   },
   "file_extension": ".py",
   "mimetype": "text/x-python",
   "name": "python",
   "nbconvert_exporter": "python",
   "pygments_lexer": "ipython3",
   "version": "3.11.4"
  }
 },
 "nbformat": 4,
 "nbformat_minor": 5
}
