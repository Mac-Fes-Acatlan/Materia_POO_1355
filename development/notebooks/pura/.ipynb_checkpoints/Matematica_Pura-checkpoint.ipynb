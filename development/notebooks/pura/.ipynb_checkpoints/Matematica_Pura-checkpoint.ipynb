{
 "cells": [
  {
   "cell_type": "markdown",
   "id": "940464c8-b086-4e16-a7d0-e43c80b99ca6",
   "metadata": {},
   "source": [
    "# Matrix"
   ]
  },
  {
   "cell_type": "code",
   "execution_count": 102,
   "id": "db0566b4-bc09-4793-8264-0ae3837ee7b5",
   "metadata": {},
   "outputs": [],
   "source": [
    "class Matrix:\n",
    "\n",
    "    def __init__(self,matrix:list)->None:\n",
    "        self._values = matrix\n",
    "        self._columns_len = len(matrix[0])\n",
    "        self._rows_len = len(matrix)\n",
    "    \n",
    "    @property\n",
    "    def values(self):\n",
    "        return self._values\n",
    "\n",
    "    @values.setter\n",
    "    def values(self,values_setter:list):\n",
    "        self._values = values_setter\n",
    "\n",
    "    @property\n",
    "    def columns_len(self):\n",
    "        return self._columns_len\n",
    "        \n",
    "    @columns_len.setter\n",
    "    def columns_len(self,values_setter:int):\n",
    "        self._columns_len = values_setter\n",
    "        \n",
    "    @property\n",
    "    def rows_len(self):\n",
    "        return self._rows_len\n",
    "\n",
    "    @rows_len.setter\n",
    "    def rows_len(self,values_setter:int):\n",
    "        self._rows_len = values_setter\n",
    "    \n",
    "    def imprime_matrix(self):\n",
    "        print(\"Los valores de la matriz son\")\n",
    "        print(self._values)\n",
    "      "
   ]
  },
  {
   "cell_type": "markdown",
   "id": "3abecbcb-e10a-4d20-a06d-ed1b910ac9d9",
   "metadata": {},
   "source": [
    "# Operacion"
   ]
  },
  {
   "cell_type": "code",
   "execution_count": 103,
   "id": "9b8ee075-8fc4-450a-9138-bc1cbc8b624d",
   "metadata": {},
   "outputs": [],
   "source": [
    "class Operacion:\n",
    "\n",
    "    def __init__(self,matrix_one,matrix_two):\n",
    "        self._matrix_one = matrix_one\n",
    "        self._matrix_two = matrix_two\n",
    "\n",
    "    def suma_matrix(self):\n",
    "        \n",
    "        if (self._matrix_one.rows_len != self._matrix_two.rows_len) or (\n",
    "            self._matrix_one.columns_len != self._matrix_two.columns_len\n",
    "        ):\n",
    "            \n",
    "            raise Exception(\"Error No se pueden sumar\")\n",
    "\n",
    "\n",
    "        resultado = []\n",
    "        \n",
    "        for i in range(self._matrix_one.rows_len):\n",
    "            fila_resultado = []\n",
    "            for j in range(self._matrix_one.columns_len):\n",
    "                suma = self._matrix_one._values[i][j] + self._matrix_two._values[i][j]\n",
    "                fila_resultado.append(suma)\n",
    "            resultado.append(fila_resultado)\n",
    "\n",
    "        return resultado\n",
    "\n",
    "    def producto_matrix(self):\n",
    "\n",
    "        if (self._matrix_one.columns_len) != (self._matrix_two.rows_len):\n",
    "            \n",
    "            raise Exception(\"Error No se pueden multiplicar\")\n",
    "\n",
    "        resultado = []\n",
    "\n",
    "        for i in range(self._matrix_one.rows_len):\n",
    "            fila_resultado = []\n",
    "\n",
    "            for j in range(self._matrix_one.columns_len):\n",
    "                producto = sum(\n",
    "                        self._matrix_one.values[i][k] * self._matrix_two.values[k][j]\n",
    "                        for k in range(self._matrix_two.rows_len)\n",
    "                    )\n",
    "                fila_resultado.append(producto)\n",
    "            resultado.append(fila_resultado)\n",
    "\n",
    "        return resultado\n",
    "                       "
   ]
  },
  {
   "cell_type": "markdown",
   "id": "915a78e1-1588-43db-8403-067accb5cbb9",
   "metadata": {},
   "source": [
    "# Adminitrador_Matrix"
   ]
  },
  {
   "cell_type": "code",
   "execution_count": 104,
   "id": "5c548a45-a2f4-4432-9739-a4135b183b8d",
   "metadata": {},
   "outputs": [],
   "source": [
    "class AdminitradorMatrix:\n",
    "\n",
    "    def __init__(self,dict_matrix:dict):\n",
    "        self._dict_matrix = dict_matrix\n",
    "\n",
    "    @property\n",
    "    def dict_matrix(self):\n",
    "        return self._dict_matrix\n",
    "\n",
    "    def operacion_elemental(self,\n",
    "                            opcion:str\n",
    "                            ,name_matrix_A:str\n",
    "                            ,name_matrix_B:str):\n",
    "\n",
    "        if opcion == \"suma\":\n",
    "            \n",
    "            operacion_obj = Operacion(self.dict_matrix[name_matrix_A]\n",
    "                                      ,self.dict_matrix[name_matrix_B])\n",
    "            \n",
    "            resultado_suma = operacion_obj.suma_matrix()\n",
    "            print(resultado_suma)\n",
    "            \n",
    "        else:\n",
    "            \n",
    "            operacion_obj = Operacion(self.dict_matrix[name_matrix_A]\n",
    "                                      ,self.dict_matrix[name_matrix_B])\n",
    "            \n",
    "            resultado_producto = operacion_obj.producto_matrix()\n",
    "            print(resultado_producto)\n",
    "\n",
    "    def solucion_sistema_ecuaciones(self):\n",
    "        pass"
   ]
  },
  {
   "cell_type": "markdown",
   "id": "83272a70-e2a7-41d7-b846-89573f18b001",
   "metadata": {},
   "source": [
    "# Flow"
   ]
  },
  {
   "cell_type": "markdown",
   "id": "a0366ffd-e620-44cf-8ffe-a8b9a52e879f",
   "metadata": {},
   "source": [
    "## Definicion de Matrices"
   ]
  },
  {
   "cell_type": "code",
   "execution_count": 105,
   "id": "cf6c72bc-b04a-499a-853d-bc4139e7baf5",
   "metadata": {},
   "outputs": [],
   "source": [
    "matrix_one = [\n",
    "    [1,2],\n",
    "    [3,4]\n",
    "]"
   ]
  },
  {
   "cell_type": "code",
   "execution_count": 106,
   "id": "4b74d4cd-3705-4026-aba0-877cdc0d0030",
   "metadata": {},
   "outputs": [],
   "source": [
    "matrix_two = [\n",
    "    [5,6],\n",
    "    [7,8],\n",
    "]"
   ]
  },
  {
   "cell_type": "code",
   "execution_count": 107,
   "id": "7adf932a-7126-48e1-9030-cfd7b600d278",
   "metadata": {},
   "outputs": [],
   "source": [
    "matrix_one_obj = Matrix(matrix_one)\n",
    "matrix_two_obj = Matrix(matrix_two)"
   ]
  },
  {
   "cell_type": "code",
   "execution_count": 108,
   "id": "098c026e-4764-4e71-84d9-40a2aff2d40c",
   "metadata": {},
   "outputs": [
    {
     "name": "stdout",
     "output_type": "stream",
     "text": [
      "Los valores de la matriz son\n",
      "[[1, 2], [3, 4]]\n"
     ]
    }
   ],
   "source": [
    "matrix_one_obj.imprime_matrix()"
   ]
  },
  {
   "cell_type": "code",
   "execution_count": 109,
   "id": "82c3f722-1c44-4095-833e-d7ed6b8aac72",
   "metadata": {},
   "outputs": [
    {
     "name": "stdout",
     "output_type": "stream",
     "text": [
      "Los valores de la matriz son\n",
      "[[5, 6], [7, 8]]\n"
     ]
    }
   ],
   "source": [
    "matrix_two_obj.imprime_matrix()"
   ]
  },
  {
   "cell_type": "markdown",
   "id": "9eb79f90-cf81-442e-9b55-bb10dd1f53ae",
   "metadata": {},
   "source": [
    "## Definicion del Administrador de Matrices"
   ]
  },
  {
   "cell_type": "code",
   "execution_count": 110,
   "id": "4b218b3d-9968-4dc0-9434-e179f86b6612",
   "metadata": {},
   "outputs": [],
   "source": [
    "dict_matrix = {\"A\":matrix_one_obj,\"B\":matrix_two_obj}"
   ]
  },
  {
   "cell_type": "code",
   "execution_count": 111,
   "id": "213c1fab-2658-4692-bd9a-3edf9cf9791a",
   "metadata": {},
   "outputs": [],
   "source": [
    "admin_matrix = AdminitradorMatrix(dict_matrix)"
   ]
  },
  {
   "cell_type": "markdown",
   "id": "8d613075-9ed9-402b-9138-fbe9418373fa",
   "metadata": {},
   "source": [
    "## Operaciones"
   ]
  },
  {
   "cell_type": "code",
   "execution_count": 112,
   "id": "fd0ed605-ac18-4148-b938-772067529701",
   "metadata": {},
   "outputs": [
    {
     "name": "stdout",
     "output_type": "stream",
     "text": [
      "[[6, 8], [10, 12]]\n"
     ]
    }
   ],
   "source": [
    "admin_matrix.operacion_elemental(\"suma\",\"A\",\"B\")"
   ]
  },
  {
   "cell_type": "code",
   "execution_count": 113,
   "id": "c348c0fc-5a68-4eb0-8362-144a7c52d34f",
   "metadata": {},
   "outputs": [
    {
     "name": "stdout",
     "output_type": "stream",
     "text": [
      "[[19, 22], [43, 50]]\n"
     ]
    }
   ],
   "source": [
    "admin_matrix.operacion_elemental(\"producto\",\"A\",\"B\")"
   ]
  },
  {
   "cell_type": "code",
   "execution_count": null,
   "id": "ebf119d5-fab4-4f28-8e15-8fe86dbb7023",
   "metadata": {},
   "outputs": [],
   "source": []
  },
  {
   "cell_type": "code",
   "execution_count": 114,
   "id": "fd7bd638-6022-46c2-9242-10420b833a76",
   "metadata": {},
   "outputs": [],
   "source": [
    "def gauss_jordan(matrix,n):\n",
    "\n",
    "    for i in range(n):\n",
    "\n",
    "        div = matrix[i][i]\n",
    "\n",
    "        for j in range(n+1):\n",
    "\n",
    "            matrix[i][j] /= div \n",
    "\n",
    "        for k in range(n):\n",
    "            \n",
    "            if k !=i:\n",
    "\n",
    "                factor = matrix[k][i]\n",
    "\n",
    "                for j in range(n+1):\n",
    "\n",
    "                    matrix[k][j] -= factor*matrix[i][j]\n",
    "\n",
    "    solucion = [row[-1] for row in matrix]\n",
    "\n",
    "    return solucion\n",
    "    "
   ]
  },
  {
   "cell_type": "code",
   "execution_count": 115,
   "id": "e272d4d9-412f-4c10-9c77-1a6a8277ee43",
   "metadata": {},
   "outputs": [],
   "source": [
    "matrix = [\n",
    "    [2,-1,1,8],\n",
    "    [-3,2,-1,-11],\n",
    "    [-2,1,2,-3]\n",
    "]"
   ]
  },
  {
   "cell_type": "code",
   "execution_count": 116,
   "id": "e743fd27-26dc-41b6-88d1-ccaf33a585e1",
   "metadata": {},
   "outputs": [
    {
     "data": {
      "text/plain": [
       "[3.333333333333333, 0.33333333333333326, 1.6666666666666667]"
      ]
     },
     "execution_count": 116,
     "metadata": {},
     "output_type": "execute_result"
    }
   ],
   "source": [
    "gauss_jordan(matrix,len(matrix))"
   ]
  },
  {
   "cell_type": "code",
   "execution_count": null,
   "id": "2379c986-44f2-4f90-987b-36cd0dc63e04",
   "metadata": {},
   "outputs": [],
   "source": []
  },
  {
   "cell_type": "code",
   "execution_count": 117,
   "id": "a2c0c7ac-d07b-4220-8502-f5c5e3d44a8c",
   "metadata": {},
   "outputs": [
    {
     "data": {
      "text/plain": [
       "[[1, 2], [3, 4]]"
      ]
     },
     "execution_count": 117,
     "metadata": {},
     "output_type": "execute_result"
    }
   ],
   "source": [
    "matrix_one_obj.values"
   ]
  },
  {
   "cell_type": "code",
   "execution_count": 118,
   "id": "672b5220-7041-4a30-8e4a-db390a384fe8",
   "metadata": {},
   "outputs": [],
   "source": [
    "class SistemaEcuaciones:\n",
    "\n",
    "    def __init__(self,matrix:Matrix,vector:list):\n",
    "        self.matrix = matrix\n",
    "        self.vector = vector \n",
    "\n",
    "        self.matriz_aunt = matrix\n",
    "        \n",
    "        for i in range(self.matrix.rows_len):\n",
    "            self.matriz_aunt.values[i].append(vector[i])\n",
    "\n",
    "        self.matriz_aunt.columns_len = self.matrix.columns_len + 1\n",
    "            \n",
    "    def gauss_jordan(self):\n",
    "    \n",
    "        for i in range(self.matriz_aunt.rows_len):\n",
    "    \n",
    "            div = self.matriz_aunt.value[i][i]\n",
    "    \n",
    "            for j in range(self.matriz_aunt.columns_len):\n",
    "    \n",
    "                self.matriz_aunt.values[i][j] /= div \n",
    "    \n",
    "            for k in range(self.matriz_aunt.rows_len):\n",
    "                \n",
    "                if k !=i:\n",
    "    \n",
    "                    factor = self.matriz_aunt.values[k][i]\n",
    "    \n",
    "                    for j in range(self.matriz_aunt.columns_len):\n",
    "    \n",
    "                        self.matriz_aunt.values[k][j] -= factor*self.matriz_aunt.values[i][j]\n",
    "    \n",
    "        solucion = [row[-1] for row in self.matriz_aunt.values]\n",
    "    \n",
    "        return solucion\n",
    "    \n",
    "            "
   ]
  },
  {
   "cell_type": "code",
   "execution_count": 119,
   "id": "3a74b9a5-79e1-40fb-8cb8-367ee2fae64a",
   "metadata": {},
   "outputs": [],
   "source": [
    "matrix_one = [\n",
    "    [2,-1,1],\n",
    "    [-3,2,-1],\n",
    "    [-2,1,2]\n",
    "]"
   ]
  },
  {
   "cell_type": "code",
   "execution_count": 120,
   "id": "7142fe9a-d96b-4d9c-a41b-b45281ade1e0",
   "metadata": {},
   "outputs": [],
   "source": [
    "vector_one = [8,-11,-3]"
   ]
  },
  {
   "cell_type": "code",
   "execution_count": 121,
   "id": "e0340b29-4b34-40ef-9e63-86f93b119e26",
   "metadata": {},
   "outputs": [],
   "source": [
    "matrix_one_obj = Matrix(matrix_one)"
   ]
  },
  {
   "cell_type": "code",
   "execution_count": 122,
   "id": "9c2afffc-d812-40da-a965-30a5e079b889",
   "metadata": {},
   "outputs": [],
   "source": [
    "sistema_one_obj = SistemaEcuaciones(matrix_one_obj,vector_one)"
   ]
  },
  {
   "cell_type": "code",
   "execution_count": 123,
   "id": "62a18ec2-b93c-4f85-b1cb-e9e8055cea10",
   "metadata": {},
   "outputs": [
    {
     "data": {
      "text/plain": [
       "3"
      ]
     },
     "execution_count": 123,
     "metadata": {},
     "output_type": "execute_result"
    }
   ],
   "source": [
    "sistema_one_obj.matriz_aunt.rows_len"
   ]
  },
  {
   "cell_type": "code",
   "execution_count": 124,
   "id": "653c01e0-ee89-4f2e-aec9-ac8ea493526e",
   "metadata": {},
   "outputs": [
    {
     "data": {
      "text/plain": [
       "4"
      ]
     },
     "execution_count": 124,
     "metadata": {},
     "output_type": "execute_result"
    }
   ],
   "source": [
    "sistema_one_obj.matriz_aunt.columns_len"
   ]
  },
  {
   "cell_type": "code",
   "execution_count": null,
   "id": "1b946d84-539e-4032-9561-a8a01b038c44",
   "metadata": {},
   "outputs": [],
   "source": []
  }
 ],
 "metadata": {
  "kernelspec": {
   "display_name": "Python 3 (ipykernel)",
   "language": "python",
   "name": "python3"
  },
  "language_info": {
   "codemirror_mode": {
    "name": "ipython",
    "version": 3
   },
   "file_extension": ".py",
   "mimetype": "text/x-python",
   "name": "python",
   "nbconvert_exporter": "python",
   "pygments_lexer": "ipython3",
   "version": "3.11.4"
  }
 },
 "nbformat": 4,
 "nbformat_minor": 5
}
