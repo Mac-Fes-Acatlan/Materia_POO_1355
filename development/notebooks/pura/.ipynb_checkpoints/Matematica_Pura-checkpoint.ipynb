{
 "cells": [
  {
   "cell_type": "markdown",
   "id": "940464c8-b086-4e16-a7d0-e43c80b99ca6",
   "metadata": {},
   "source": [
    "# Matrix"
   ]
  },
  {
   "cell_type": "code",
   "execution_count": 292,
   "id": "db0566b4-bc09-4793-8264-0ae3837ee7b5",
   "metadata": {},
   "outputs": [],
   "source": [
    "class Matrix:\n",
    "\n",
    "    def __init__(self,matrix:list)->None:\n",
    "        self._values = matrix\n",
    "        self._columns_len = len(matrix[0])\n",
    "        self._rows_len = len(matrix)\n",
    "    \n",
    "    @property\n",
    "    def values(self):\n",
    "        return self._values\n",
    "\n",
    "    @values.setter\n",
    "    def values(self,values_setter:list):\n",
    "        self._values = values_setter\n",
    "\n",
    "    @property\n",
    "    def columns_len(self):\n",
    "        return self._columns_len\n",
    "\n",
    "    @property\n",
    "    def rows_len(self):\n",
    "        return self._rows_len\n",
    "    \n",
    "    def imprime_matrix(self):\n",
    "        print(\"Los valores de la matriz son\")\n",
    "        print(self._values)\n",
    "      "
   ]
  },
  {
   "cell_type": "markdown",
   "id": "3abecbcb-e10a-4d20-a06d-ed1b910ac9d9",
   "metadata": {},
   "source": [
    "# Operacion"
   ]
  },
  {
   "cell_type": "code",
   "execution_count": 327,
   "id": "9b8ee075-8fc4-450a-9138-bc1cbc8b624d",
   "metadata": {},
   "outputs": [],
   "source": [
    "class Operacion:\n",
    "\n",
    "    def __init__(self,matrix_one,matrix_two):\n",
    "        self._matrix_one = matrix_one\n",
    "        self._matrix_two = matrix_two\n",
    "\n",
    "    def suma_matrix(self):\n",
    "        \n",
    "        if (self._matrix_one.rows_len != self._matrix_two.rows_len) or (\n",
    "            self._matrix_one.columns_len != self._matrix_two.columns_len\n",
    "        ):\n",
    "            \n",
    "            raise Exception(\"Error No se pueden sumar\")\n",
    "\n",
    "\n",
    "        resultado = []\n",
    "        \n",
    "        for i in range(self._matrix_one.rows_len):\n",
    "            fila_resultado = []\n",
    "            for j in range(self._matrix_one.columns_len):\n",
    "                suma = self._matrix_one._values[i][j] + self._matrix_two._values[i][j]\n",
    "                fila_resultado.append(suma)\n",
    "            resultado.append(fila_resultado)\n",
    "\n",
    "        return resultado\n",
    "\n",
    "    def producto_matrix(self):\n",
    "\n",
    "        if (self._matrix_one.columns_len) != (self._matrix_two.rows_len):\n",
    "            \n",
    "            raise Exception(\"Error No se pueden multiplicar\")\n",
    "\n",
    "        resultado = []\n",
    "\n",
    "        for i in range(self._matrix_one.rows_len):\n",
    "            fila_resultado = []\n",
    "\n",
    "            for j in range(self._matrix_one.columns_len):\n",
    "                producto = sum(\n",
    "                        self._matrix_one.values[i][k] * self._matrix_two.values[k][j]\n",
    "                        for k in range(self._matrix_two.rows_len)\n",
    "                    )\n",
    "                fila_resultado.append(producto)\n",
    "            resultado.append(fila_resultado)\n",
    "\n",
    "        return resultado\n",
    "                       "
   ]
  },
  {
   "cell_type": "markdown",
   "id": "915a78e1-1588-43db-8403-067accb5cbb9",
   "metadata": {},
   "source": [
    "# Adminitrador_Matrix"
   ]
  },
  {
   "cell_type": "code",
   "execution_count": 348,
   "id": "5c548a45-a2f4-4432-9739-a4135b183b8d",
   "metadata": {},
   "outputs": [],
   "source": [
    "class AdminitradorMatrix:\n",
    "\n",
    "    def __init__(self,dict_matrix:dict):\n",
    "        self._dict_matrix = dict_matrix\n",
    "\n",
    "    @property\n",
    "    def dict_matrix(self):\n",
    "        return self._dict_matrix\n",
    "\n",
    "    def operacion_elemental(self,\n",
    "                            opcion:str\n",
    "                            ,name_matrix_A:str\n",
    "                            ,name_matrix_B:str):\n",
    "\n",
    "        if opcion == \"suma\":\n",
    "            \n",
    "            operacion_obj = Operacion(self.dict_matrix[name_matrix_A]\n",
    "                                      ,self.dict_matrix[name_matrix_B])\n",
    "            \n",
    "            resultado_suma = operacion_obj.suma_matrix()\n",
    "            print(resultado_suma)\n",
    "            \n",
    "        else:\n",
    "            \n",
    "            operacion_obj = Operacion(self.dict_matrix[name_matrix_A]\n",
    "                                      ,self.dict_matrix[name_matrix_B])\n",
    "            \n",
    "            resultado_producto = operacion_obj.producto_matrix()\n",
    "            print(resultado_producto)\n",
    "\n",
    "    def solucion_sistema_ecuaciones(self):\n",
    "        pass"
   ]
  },
  {
   "cell_type": "markdown",
   "id": "83272a70-e2a7-41d7-b846-89573f18b001",
   "metadata": {},
   "source": [
    "# Flow"
   ]
  },
  {
   "cell_type": "markdown",
   "id": "a0366ffd-e620-44cf-8ffe-a8b9a52e879f",
   "metadata": {},
   "source": [
    "## Definicion de Matrices"
   ]
  },
  {
   "cell_type": "code",
   "execution_count": 349,
   "id": "cf6c72bc-b04a-499a-853d-bc4139e7baf5",
   "metadata": {},
   "outputs": [],
   "source": [
    "matrix_one = [\n",
    "    [1,2],\n",
    "    [3,4]\n",
    "]"
   ]
  },
  {
   "cell_type": "code",
   "execution_count": 350,
   "id": "4b74d4cd-3705-4026-aba0-877cdc0d0030",
   "metadata": {},
   "outputs": [],
   "source": [
    "matrix_two = [\n",
    "    [5,6],\n",
    "    [7,8],\n",
    "]"
   ]
  },
  {
   "cell_type": "code",
   "execution_count": 351,
   "id": "7adf932a-7126-48e1-9030-cfd7b600d278",
   "metadata": {},
   "outputs": [],
   "source": [
    "matrix_one_obj = Matrix(matrix_one)\n",
    "matrix_two_obj = Matrix(matrix_two)"
   ]
  },
  {
   "cell_type": "code",
   "execution_count": 352,
   "id": "098c026e-4764-4e71-84d9-40a2aff2d40c",
   "metadata": {},
   "outputs": [
    {
     "name": "stdout",
     "output_type": "stream",
     "text": [
      "Los valores de la matriz son\n",
      "[[1, 2], [3, 4]]\n"
     ]
    }
   ],
   "source": [
    "matrix_one_obj.imprime_matrix()"
   ]
  },
  {
   "cell_type": "code",
   "execution_count": 353,
   "id": "82c3f722-1c44-4095-833e-d7ed6b8aac72",
   "metadata": {},
   "outputs": [
    {
     "name": "stdout",
     "output_type": "stream",
     "text": [
      "Los valores de la matriz son\n",
      "[[5, 6], [7, 8]]\n"
     ]
    }
   ],
   "source": [
    "matrix_two_obj.imprime_matrix()"
   ]
  },
  {
   "cell_type": "markdown",
   "id": "9eb79f90-cf81-442e-9b55-bb10dd1f53ae",
   "metadata": {},
   "source": [
    "## Definicion del Administrador de Matrices"
   ]
  },
  {
   "cell_type": "code",
   "execution_count": 354,
   "id": "4b218b3d-9968-4dc0-9434-e179f86b6612",
   "metadata": {},
   "outputs": [],
   "source": [
    "dict_matrix = {\"A\":matrix_one_obj,\"B\":matrix_two_obj}"
   ]
  },
  {
   "cell_type": "code",
   "execution_count": 355,
   "id": "213c1fab-2658-4692-bd9a-3edf9cf9791a",
   "metadata": {},
   "outputs": [],
   "source": [
    "admin_matrix = AdminitradorMatrix(dict_matrix)"
   ]
  },
  {
   "cell_type": "markdown",
   "id": "8d613075-9ed9-402b-9138-fbe9418373fa",
   "metadata": {},
   "source": [
    "## Operaciones"
   ]
  },
  {
   "cell_type": "code",
   "execution_count": 357,
   "id": "fd0ed605-ac18-4148-b938-772067529701",
   "metadata": {},
   "outputs": [
    {
     "name": "stdout",
     "output_type": "stream",
     "text": [
      "[[6, 8], [10, 12]]\n"
     ]
    }
   ],
   "source": [
    "admin_matrix.operacion_elemental(\"suma\",\"A\",\"B\")"
   ]
  },
  {
   "cell_type": "code",
   "execution_count": 358,
   "id": "c348c0fc-5a68-4eb0-8362-144a7c52d34f",
   "metadata": {},
   "outputs": [
    {
     "name": "stdout",
     "output_type": "stream",
     "text": [
      "[[19, 22], [43, 50]]\n"
     ]
    }
   ],
   "source": [
    "admin_matrix.operacion_elemental(\"producto\",\"A\",\"B\")"
   ]
  },
  {
   "cell_type": "code",
   "execution_count": null,
   "id": "fd7bd638-6022-46c2-9242-10420b833a76",
   "metadata": {},
   "outputs": [],
   "source": []
  }
 ],
 "metadata": {
  "kernelspec": {
   "display_name": "Python 3 (ipykernel)",
   "language": "python",
   "name": "python3"
  },
  "language_info": {
   "codemirror_mode": {
    "name": "ipython",
    "version": 3
   },
   "file_extension": ".py",
   "mimetype": "text/x-python",
   "name": "python",
   "nbconvert_exporter": "python",
   "pygments_lexer": "ipython3",
   "version": "3.11.4"
  }
 },
 "nbformat": 4,
 "nbformat_minor": 5
}
