{
 "cells": [
  {
   "cell_type": "code",
   "execution_count": 4,
   "id": "4e052233-1db6-4b74-bd21-168edcbd4d06",
   "metadata": {},
   "outputs": [
    {
     "name": "stdout",
     "output_type": "stream",
     "text": [
      "La solución es: [3.333333333333333, 0.33333333333333326, 1.6666666666666667]\n"
     ]
    }
   ],
   "source": [
    "def gauss_jordan(matrix, n):\n",
    "    for i in range(n):\n",
    "        # Hacer la diagonal principal igual a 1\n",
    "        div = matrix[i][i]\n",
    "        for j in range(n+1):\n",
    "            matrix[i][j] /= div\n",
    "\n",
    "        # Hacer 0 el resto de elementos en la columna actual\n",
    "        for k in range(n):\n",
    "            if k != i:\n",
    "                factor = matrix[k][i]\n",
    "                for j in range(n+1):\n",
    "                    matrix[k][j] -= factor * matrix[i][j]\n",
    "\n",
    "    # Extraer la solución del sistema\n",
    "    solution = [row[-1] for row in matrix]\n",
    "    return solution\n",
    "\n",
    "# Ejemplo de uso\n",
    "matrix = [\n",
    "    [2, -1, 1, 8],\n",
    "    [-3, 2, -1, -11],\n",
    "    [-2, 1, 2, -3]\n",
    "]\n",
    "\n",
    "n = len(matrix)\n",
    "\n",
    "# Llamar a la función\n",
    "result = gauss_jordan(matrix, n)\n",
    "\n",
    "# Imprimir la solución\n",
    "print(\"La solución es:\", result)\n"
   ]
  },
  {
   "cell_type": "code",
   "execution_count": 2,
   "id": "be9c2fe5-de03-4e8e-a5f4-43b7babae5ac",
   "metadata": {},
   "outputs": [
    {
     "name": "stdout",
     "output_type": "stream",
     "text": [
      "La matriz es cuadrada.\n",
      "La matriz no es cuadrada.\n"
     ]
    }
   ],
   "source": [
    "def es_matriz_cuadrada(matriz):\n",
    "    num_filas = len(matriz)\n",
    "    num_columnas = len(matriz[0]) if matriz else 0\n",
    "    \n",
    "    return num_filas == num_columnas\n",
    "\n",
    "# Ejemplo de uso:\n",
    "matriz_cuadrada = [[1, 2, 3], [4, 5, 6], [7, 8, 9]]\n",
    "matriz_no_cuadrada = [[1, 2, 3], [4, 5, 6]]\n",
    "\n",
    "if es_matriz_cuadrada(matriz_cuadrada):\n",
    "    print(\"La matriz es cuadrada.\")\n",
    "else:\n",
    "    print(\"La matriz no es cuadrada.\")\n",
    "\n",
    "if es_matriz_cuadrada(matriz_no_cuadrada):\n",
    "    print(\"La matriz es cuadrada.\")\n",
    "else:\n",
    "    print(\"La matriz no es cuadrada.\")\n"
   ]
  },
  {
   "cell_type": "code",
   "execution_count": 9,
   "id": "6841cd55-71c6-49c2-9b27-1b1fdcb6ac8d",
   "metadata": {},
   "outputs": [
    {
     "name": "stdout",
     "output_type": "stream",
     "text": [
      "El determinante de la matriz es: 2.9999999999999996\n"
     ]
    }
   ],
   "source": [
    "import numpy as np\n",
    "\n",
    "# Define la matriz\n",
    "\n",
    "matrix = [\n",
    "    [2, -1, 1],\n",
    "    [-3, 2, -1],\n",
    "    [-2, 1, 2],\n",
    "]\n",
    "\n",
    "matriz = np.array(matriz_cuadrada)\n",
    "\n",
    "# Calcula el determinante\n",
    "determinante = np.linalg.det(matrix)\n",
    "\n",
    "print(f\"El determinante de la matriz es: {determinante}\")\n"
   ]
  },
  {
   "cell_type": "code",
   "execution_count": null,
   "id": "f16cf659-c7a2-4c55-b599-4d2481cb1f8c",
   "metadata": {},
   "outputs": [],
   "source": [
    "def newton_method_with_relative_error(f, f_prime, x0, tol=1e-10, max_iter=1000):\n",
    "    x = x0\n",
    "    for i in range(max_iter):\n",
    "        fx = f(x)\n",
    "        fpx = f_prime(x)\n",
    "        if abs(fpx) < 1e-15:\n",
    "            raise ValueError(\"La derivada se hizo cero. No se puede continuar.\")\n",
    "        x_new = x - fx / fpx\n",
    "        if abs(x_new - x) / abs(x_new) < tol:\n",
    "            return x_new, i\n",
    "        x = x_new\n",
    "    raise ValueError(\"El método no convergió después de {} iteraciones.\".format(max_iter))\n",
    "\n",
    "if __name__ == \"__main__\":\n",
    "    def f(x):\n",
    "        return x**2 - 2\n",
    "\n",
    "    def f_prime(x):\n",
    "        return 2*x\n",
    "\n",
    "    x0 = 1.5\n",
    "    root, num_iterations = newton_method_with_relative_error(f, f_prime, x0)\n",
    "    print(f\"Raíz aproximada: {root} después de {num_iterations} iteraciones.\")\n"
   ]
  },
  {
   "cell_type": "code",
   "execution_count": null,
   "id": "80b28909-8abd-44b6-8ac4-701a3d2b4f72",
   "metadata": {},
   "outputs": [],
   "source": []
  }
 ],
 "metadata": {
  "kernelspec": {
   "display_name": "Python 3 (ipykernel)",
   "language": "python",
   "name": "python3"
  },
  "language_info": {
   "codemirror_mode": {
    "name": "ipython",
    "version": 3
   },
   "file_extension": ".py",
   "mimetype": "text/x-python",
   "name": "python",
   "nbconvert_exporter": "python",
   "pygments_lexer": "ipython3",
   "version": "3.11.4"
  }
 },
 "nbformat": 4,
 "nbformat_minor": 5
}
